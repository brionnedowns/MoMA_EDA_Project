{
 "cells": [
  {
   "cell_type": "code",
   "execution_count": 1,
   "metadata": {
    "collapsed": true
   },
   "outputs": [],
   "source": [
    "import pandas as pd\n",
    "import numpy as np\n",
    "import sys\n",
    "\n",
    "# to display all columns of a dataframe\n",
    "pd.set_option('display.max_columns', 42) # use this to see all the columns in a df display\n",
    "np.set_printoptions(threshold=sys.maxsize) # use this to see full arrays without truncation"
   ]
  },
  {
   "cell_type": "code",
   "execution_count": 2,
   "outputs": [],
   "source": [
    "artists = pd.read_csv('artists.csv', dtype='unicode')\n",
    "artworks = pd.read_csv('artworks.csv', dtype='unicode')"
   ],
   "metadata": {
    "collapsed": false,
    "pycharm": {
     "name": "#%%\n"
    }
   }
  },
  {
   "cell_type": "code",
   "execution_count": 3,
   "outputs": [
    {
     "data": {
      "text/plain": "  Artist ID             Name Nationality Gender Birth Year Death Year\n0         1   Robert Arneson    American   Male       1930       1992\n1         2   Doroteo Arnaiz     Spanish   Male       1936        NaN\n2         3      Bill Arnold    American   Male       1941        NaN\n3         4  Charles Arnoldi    American   Male       1946        NaN\n4         5      Per Arnoldi      Danish   Male       1941        NaN",
      "text/html": "<div>\n<style scoped>\n    .dataframe tbody tr th:only-of-type {\n        vertical-align: middle;\n    }\n\n    .dataframe tbody tr th {\n        vertical-align: top;\n    }\n\n    .dataframe thead th {\n        text-align: right;\n    }\n</style>\n<table border=\"1\" class=\"dataframe\">\n  <thead>\n    <tr style=\"text-align: right;\">\n      <th></th>\n      <th>Artist ID</th>\n      <th>Name</th>\n      <th>Nationality</th>\n      <th>Gender</th>\n      <th>Birth Year</th>\n      <th>Death Year</th>\n    </tr>\n  </thead>\n  <tbody>\n    <tr>\n      <th>0</th>\n      <td>1</td>\n      <td>Robert Arneson</td>\n      <td>American</td>\n      <td>Male</td>\n      <td>1930</td>\n      <td>1992</td>\n    </tr>\n    <tr>\n      <th>1</th>\n      <td>2</td>\n      <td>Doroteo Arnaiz</td>\n      <td>Spanish</td>\n      <td>Male</td>\n      <td>1936</td>\n      <td>NaN</td>\n    </tr>\n    <tr>\n      <th>2</th>\n      <td>3</td>\n      <td>Bill Arnold</td>\n      <td>American</td>\n      <td>Male</td>\n      <td>1941</td>\n      <td>NaN</td>\n    </tr>\n    <tr>\n      <th>3</th>\n      <td>4</td>\n      <td>Charles Arnoldi</td>\n      <td>American</td>\n      <td>Male</td>\n      <td>1946</td>\n      <td>NaN</td>\n    </tr>\n    <tr>\n      <th>4</th>\n      <td>5</td>\n      <td>Per Arnoldi</td>\n      <td>Danish</td>\n      <td>Male</td>\n      <td>1941</td>\n      <td>NaN</td>\n    </tr>\n  </tbody>\n</table>\n</div>"
     },
     "execution_count": 3,
     "metadata": {},
     "output_type": "execute_result"
    }
   ],
   "source": [
    "artists.head()"
   ],
   "metadata": {
    "collapsed": false,
    "pycharm": {
     "name": "#%%\n"
    }
   }
  },
  {
   "cell_type": "code",
   "execution_count": 4,
   "outputs": [
    {
     "data": {
      "text/plain": "  Artwork ID                Title Artist ID            Name  Date  \\\n0      33599  Study for Head Bath         1  Robert Arneson  1977   \n1      64139         General Nuke         1  Robert Arneson  1986   \n2      61629           BAS-RELIEF         2  Doroteo Arnaiz   NaN   \n3      45972     Honey under Sink         3     Bill Arnold  1971   \n4      45997    Honey under Chair         3     Bill Arnold  1971   \n\n                                   Medium  \\\n0        Conté crayon and pencil on paper   \n1                              Lithograph   \n2               Etching, printed in color   \n3  Microfilm reader-printer machine print   \n4  Microfilm reader-printer machine print   \n\n                                          Dimensions Acquisition Date  \\\n0                 41 5/8 x 29 7/8\" (105.8 x 75.8 cm)        4/28/1981   \n1  composition (irreg.): 31 11/16 x 23 5/16\" (80....        5/28/1997   \n2  Plate 21 1/2 x 15 5/8\" (54.7 x 39.7 cm) Sheet ...         3/9/1965   \n3                      15 x 22 7/8\" (38.1 x 58.2 cm)         3/7/1972   \n4                      15 x 22 3/4\" (38.1 x 57.8 cm)         3/7/1972   \n\n                                        Credit Catalogue  \\\n0  Gift of the Friends of Contemporary Drawing         Y   \n1                       Gift of Landfall Press         Y   \n2                           Gift of the artist         N   \n3                                     Purchase         Y   \n4                                     Purchase         Y   \n\n                   Department Classification Object Number Diameter (cm)  \\\n0                    Drawings        Drawing       67.1981           NaN   \n1  Prints & Illustrated Books          Print      192.1997           NaN   \n2  Prints & Illustrated Books          Print       87.1965           NaN   \n3                 Photography     Photograph       87.1972           NaN   \n4                 Photography     Photograph       88.1972           NaN   \n\n  Circumference (cm) Height (cm) Length (cm) Width (cm) Depth (cm)  \\\n0                NaN       105.7         NaN       75.9        NaN   \n1                NaN        80.5         NaN       59.2        NaN   \n2                NaN        54.7         NaN       39.7        NaN   \n3                NaN        38.1         NaN       58.2        NaN   \n4                NaN        38.1         NaN       57.8        NaN   \n\n  Weight (kg) Duration (s)  \n0         NaN          NaN  \n1         NaN          NaN  \n2         NaN          NaN  \n3         NaN          NaN  \n4         NaN          NaN  ",
      "text/html": "<div>\n<style scoped>\n    .dataframe tbody tr th:only-of-type {\n        vertical-align: middle;\n    }\n\n    .dataframe tbody tr th {\n        vertical-align: top;\n    }\n\n    .dataframe thead th {\n        text-align: right;\n    }\n</style>\n<table border=\"1\" class=\"dataframe\">\n  <thead>\n    <tr style=\"text-align: right;\">\n      <th></th>\n      <th>Artwork ID</th>\n      <th>Title</th>\n      <th>Artist ID</th>\n      <th>Name</th>\n      <th>Date</th>\n      <th>Medium</th>\n      <th>Dimensions</th>\n      <th>Acquisition Date</th>\n      <th>Credit</th>\n      <th>Catalogue</th>\n      <th>Department</th>\n      <th>Classification</th>\n      <th>Object Number</th>\n      <th>Diameter (cm)</th>\n      <th>Circumference (cm)</th>\n      <th>Height (cm)</th>\n      <th>Length (cm)</th>\n      <th>Width (cm)</th>\n      <th>Depth (cm)</th>\n      <th>Weight (kg)</th>\n      <th>Duration (s)</th>\n    </tr>\n  </thead>\n  <tbody>\n    <tr>\n      <th>0</th>\n      <td>33599</td>\n      <td>Study for Head Bath</td>\n      <td>1</td>\n      <td>Robert Arneson</td>\n      <td>1977</td>\n      <td>Conté crayon and pencil on paper</td>\n      <td>41 5/8 x 29 7/8\" (105.8 x 75.8 cm)</td>\n      <td>4/28/1981</td>\n      <td>Gift of the Friends of Contemporary Drawing</td>\n      <td>Y</td>\n      <td>Drawings</td>\n      <td>Drawing</td>\n      <td>67.1981</td>\n      <td>NaN</td>\n      <td>NaN</td>\n      <td>105.7</td>\n      <td>NaN</td>\n      <td>75.9</td>\n      <td>NaN</td>\n      <td>NaN</td>\n      <td>NaN</td>\n    </tr>\n    <tr>\n      <th>1</th>\n      <td>64139</td>\n      <td>General Nuke</td>\n      <td>1</td>\n      <td>Robert Arneson</td>\n      <td>1986</td>\n      <td>Lithograph</td>\n      <td>composition (irreg.): 31 11/16 x 23 5/16\" (80....</td>\n      <td>5/28/1997</td>\n      <td>Gift of Landfall Press</td>\n      <td>Y</td>\n      <td>Prints &amp; Illustrated Books</td>\n      <td>Print</td>\n      <td>192.1997</td>\n      <td>NaN</td>\n      <td>NaN</td>\n      <td>80.5</td>\n      <td>NaN</td>\n      <td>59.2</td>\n      <td>NaN</td>\n      <td>NaN</td>\n      <td>NaN</td>\n    </tr>\n    <tr>\n      <th>2</th>\n      <td>61629</td>\n      <td>BAS-RELIEF</td>\n      <td>2</td>\n      <td>Doroteo Arnaiz</td>\n      <td>NaN</td>\n      <td>Etching, printed in color</td>\n      <td>Plate 21 1/2 x 15 5/8\" (54.7 x 39.7 cm) Sheet ...</td>\n      <td>3/9/1965</td>\n      <td>Gift of the artist</td>\n      <td>N</td>\n      <td>Prints &amp; Illustrated Books</td>\n      <td>Print</td>\n      <td>87.1965</td>\n      <td>NaN</td>\n      <td>NaN</td>\n      <td>54.7</td>\n      <td>NaN</td>\n      <td>39.7</td>\n      <td>NaN</td>\n      <td>NaN</td>\n      <td>NaN</td>\n    </tr>\n    <tr>\n      <th>3</th>\n      <td>45972</td>\n      <td>Honey under Sink</td>\n      <td>3</td>\n      <td>Bill Arnold</td>\n      <td>1971</td>\n      <td>Microfilm reader-printer machine print</td>\n      <td>15 x 22 7/8\" (38.1 x 58.2 cm)</td>\n      <td>3/7/1972</td>\n      <td>Purchase</td>\n      <td>Y</td>\n      <td>Photography</td>\n      <td>Photograph</td>\n      <td>87.1972</td>\n      <td>NaN</td>\n      <td>NaN</td>\n      <td>38.1</td>\n      <td>NaN</td>\n      <td>58.2</td>\n      <td>NaN</td>\n      <td>NaN</td>\n      <td>NaN</td>\n    </tr>\n    <tr>\n      <th>4</th>\n      <td>45997</td>\n      <td>Honey under Chair</td>\n      <td>3</td>\n      <td>Bill Arnold</td>\n      <td>1971</td>\n      <td>Microfilm reader-printer machine print</td>\n      <td>15 x 22 3/4\" (38.1 x 57.8 cm)</td>\n      <td>3/7/1972</td>\n      <td>Purchase</td>\n      <td>Y</td>\n      <td>Photography</td>\n      <td>Photograph</td>\n      <td>88.1972</td>\n      <td>NaN</td>\n      <td>NaN</td>\n      <td>38.1</td>\n      <td>NaN</td>\n      <td>57.8</td>\n      <td>NaN</td>\n      <td>NaN</td>\n      <td>NaN</td>\n    </tr>\n  </tbody>\n</table>\n</div>"
     },
     "execution_count": 4,
     "metadata": {},
     "output_type": "execute_result"
    }
   ],
   "source": [
    "artworks.head()"
   ],
   "metadata": {
    "collapsed": false,
    "pycharm": {
     "name": "#%%\n"
    }
   }
  },
  {
   "cell_type": "code",
   "execution_count": 5,
   "outputs": [
    {
     "name": "stderr",
     "output_type": "stream",
     "text": [
      "C:\\Users\\BRIONN~1.DOW\\AppData\\Local\\Temp/ipykernel_5784/310035200.py:3: FutureWarning: The default value of regex will change from True to False in a future version. In addition, single character regular expressions will *not* be treated as literal strings when regex=True.\n",
      "  artworks.columns = artworks.columns.str.replace(' ','_').str.lower().str.replace('(','').str.replace(')','')\n"
     ]
    }
   ],
   "source": [
    "# fix the formatting of the column headers\n",
    "artists.columns = artists.columns.str.replace(' ','_').str.lower()\n",
    "artworks.columns = artworks.columns.str.replace(' ','_').str.lower().str.replace('(','').str.replace(')','')"
   ],
   "metadata": {
    "collapsed": false,
    "pycharm": {
     "name": "#%%\n"
    }
   }
  },
  {
   "cell_type": "code",
   "execution_count": 6,
   "outputs": [
    {
     "data": {
      "text/plain": "  artwork_id                title artist_id          name_x  date  \\\n0      33599  Study for Head Bath         1  Robert Arneson  1977   \n1      64139         General Nuke         1  Robert Arneson  1986   \n2      61629           BAS-RELIEF         2  Doroteo Arnaiz   NaN   \n3      45972     Honey under Sink         3     Bill Arnold  1971   \n4      45997    Honey under Chair         3     Bill Arnold  1971   \n\n                                   medium  \\\n0        Conté crayon and pencil on paper   \n1                              Lithograph   \n2               Etching, printed in color   \n3  Microfilm reader-printer machine print   \n4  Microfilm reader-printer machine print   \n\n                                          dimensions acquisition_date  \\\n0                 41 5/8 x 29 7/8\" (105.8 x 75.8 cm)        4/28/1981   \n1  composition (irreg.): 31 11/16 x 23 5/16\" (80....        5/28/1997   \n2  Plate 21 1/2 x 15 5/8\" (54.7 x 39.7 cm) Sheet ...         3/9/1965   \n3                      15 x 22 7/8\" (38.1 x 58.2 cm)         3/7/1972   \n4                      15 x 22 3/4\" (38.1 x 57.8 cm)         3/7/1972   \n\n                                        credit catalogue  \\\n0  Gift of the Friends of Contemporary Drawing         Y   \n1                       Gift of Landfall Press         Y   \n2                           Gift of the artist         N   \n3                                     Purchase         Y   \n4                                     Purchase         Y   \n\n                   department classification object_number diameter_cm  \\\n0                    Drawings        Drawing       67.1981         NaN   \n1  Prints & Illustrated Books          Print      192.1997         NaN   \n2  Prints & Illustrated Books          Print       87.1965         NaN   \n3                 Photography     Photograph       87.1972         NaN   \n4                 Photography     Photograph       88.1972         NaN   \n\n  circumference_cm height_cm length_cm width_cm depth_cm weight_kg duration_s  \\\n0              NaN     105.7       NaN     75.9      NaN       NaN        NaN   \n1              NaN      80.5       NaN     59.2      NaN       NaN        NaN   \n2              NaN      54.7       NaN     39.7      NaN       NaN        NaN   \n3              NaN      38.1       NaN     58.2      NaN       NaN        NaN   \n4              NaN      38.1       NaN     57.8      NaN       NaN        NaN   \n\n           name_y nationality gender birth_year death_year  \n0  Robert Arneson    American   Male       1930       1992  \n1  Robert Arneson    American   Male       1930       1992  \n2  Doroteo Arnaiz     Spanish   Male       1936        NaN  \n3     Bill Arnold    American   Male       1941        NaN  \n4     Bill Arnold    American   Male       1941        NaN  ",
      "text/html": "<div>\n<style scoped>\n    .dataframe tbody tr th:only-of-type {\n        vertical-align: middle;\n    }\n\n    .dataframe tbody tr th {\n        vertical-align: top;\n    }\n\n    .dataframe thead th {\n        text-align: right;\n    }\n</style>\n<table border=\"1\" class=\"dataframe\">\n  <thead>\n    <tr style=\"text-align: right;\">\n      <th></th>\n      <th>artwork_id</th>\n      <th>title</th>\n      <th>artist_id</th>\n      <th>name_x</th>\n      <th>date</th>\n      <th>medium</th>\n      <th>dimensions</th>\n      <th>acquisition_date</th>\n      <th>credit</th>\n      <th>catalogue</th>\n      <th>department</th>\n      <th>classification</th>\n      <th>object_number</th>\n      <th>diameter_cm</th>\n      <th>circumference_cm</th>\n      <th>height_cm</th>\n      <th>length_cm</th>\n      <th>width_cm</th>\n      <th>depth_cm</th>\n      <th>weight_kg</th>\n      <th>duration_s</th>\n      <th>name_y</th>\n      <th>nationality</th>\n      <th>gender</th>\n      <th>birth_year</th>\n      <th>death_year</th>\n    </tr>\n  </thead>\n  <tbody>\n    <tr>\n      <th>0</th>\n      <td>33599</td>\n      <td>Study for Head Bath</td>\n      <td>1</td>\n      <td>Robert Arneson</td>\n      <td>1977</td>\n      <td>Conté crayon and pencil on paper</td>\n      <td>41 5/8 x 29 7/8\" (105.8 x 75.8 cm)</td>\n      <td>4/28/1981</td>\n      <td>Gift of the Friends of Contemporary Drawing</td>\n      <td>Y</td>\n      <td>Drawings</td>\n      <td>Drawing</td>\n      <td>67.1981</td>\n      <td>NaN</td>\n      <td>NaN</td>\n      <td>105.7</td>\n      <td>NaN</td>\n      <td>75.9</td>\n      <td>NaN</td>\n      <td>NaN</td>\n      <td>NaN</td>\n      <td>Robert Arneson</td>\n      <td>American</td>\n      <td>Male</td>\n      <td>1930</td>\n      <td>1992</td>\n    </tr>\n    <tr>\n      <th>1</th>\n      <td>64139</td>\n      <td>General Nuke</td>\n      <td>1</td>\n      <td>Robert Arneson</td>\n      <td>1986</td>\n      <td>Lithograph</td>\n      <td>composition (irreg.): 31 11/16 x 23 5/16\" (80....</td>\n      <td>5/28/1997</td>\n      <td>Gift of Landfall Press</td>\n      <td>Y</td>\n      <td>Prints &amp; Illustrated Books</td>\n      <td>Print</td>\n      <td>192.1997</td>\n      <td>NaN</td>\n      <td>NaN</td>\n      <td>80.5</td>\n      <td>NaN</td>\n      <td>59.2</td>\n      <td>NaN</td>\n      <td>NaN</td>\n      <td>NaN</td>\n      <td>Robert Arneson</td>\n      <td>American</td>\n      <td>Male</td>\n      <td>1930</td>\n      <td>1992</td>\n    </tr>\n    <tr>\n      <th>2</th>\n      <td>61629</td>\n      <td>BAS-RELIEF</td>\n      <td>2</td>\n      <td>Doroteo Arnaiz</td>\n      <td>NaN</td>\n      <td>Etching, printed in color</td>\n      <td>Plate 21 1/2 x 15 5/8\" (54.7 x 39.7 cm) Sheet ...</td>\n      <td>3/9/1965</td>\n      <td>Gift of the artist</td>\n      <td>N</td>\n      <td>Prints &amp; Illustrated Books</td>\n      <td>Print</td>\n      <td>87.1965</td>\n      <td>NaN</td>\n      <td>NaN</td>\n      <td>54.7</td>\n      <td>NaN</td>\n      <td>39.7</td>\n      <td>NaN</td>\n      <td>NaN</td>\n      <td>NaN</td>\n      <td>Doroteo Arnaiz</td>\n      <td>Spanish</td>\n      <td>Male</td>\n      <td>1936</td>\n      <td>NaN</td>\n    </tr>\n    <tr>\n      <th>3</th>\n      <td>45972</td>\n      <td>Honey under Sink</td>\n      <td>3</td>\n      <td>Bill Arnold</td>\n      <td>1971</td>\n      <td>Microfilm reader-printer machine print</td>\n      <td>15 x 22 7/8\" (38.1 x 58.2 cm)</td>\n      <td>3/7/1972</td>\n      <td>Purchase</td>\n      <td>Y</td>\n      <td>Photography</td>\n      <td>Photograph</td>\n      <td>87.1972</td>\n      <td>NaN</td>\n      <td>NaN</td>\n      <td>38.1</td>\n      <td>NaN</td>\n      <td>58.2</td>\n      <td>NaN</td>\n      <td>NaN</td>\n      <td>NaN</td>\n      <td>Bill Arnold</td>\n      <td>American</td>\n      <td>Male</td>\n      <td>1941</td>\n      <td>NaN</td>\n    </tr>\n    <tr>\n      <th>4</th>\n      <td>45997</td>\n      <td>Honey under Chair</td>\n      <td>3</td>\n      <td>Bill Arnold</td>\n      <td>1971</td>\n      <td>Microfilm reader-printer machine print</td>\n      <td>15 x 22 3/4\" (38.1 x 57.8 cm)</td>\n      <td>3/7/1972</td>\n      <td>Purchase</td>\n      <td>Y</td>\n      <td>Photography</td>\n      <td>Photograph</td>\n      <td>88.1972</td>\n      <td>NaN</td>\n      <td>NaN</td>\n      <td>38.1</td>\n      <td>NaN</td>\n      <td>57.8</td>\n      <td>NaN</td>\n      <td>NaN</td>\n      <td>NaN</td>\n      <td>Bill Arnold</td>\n      <td>American</td>\n      <td>Male</td>\n      <td>1941</td>\n      <td>NaN</td>\n    </tr>\n  </tbody>\n</table>\n</div>"
     },
     "execution_count": 6,
     "metadata": {},
     "output_type": "execute_result"
    }
   ],
   "source": [
    "whole = pd.merge(artworks, artists, on='artist_id', how='left')\n",
    "whole.head()"
   ],
   "metadata": {
    "collapsed": false,
    "pycharm": {
     "name": "#%%\n"
    }
   }
  },
  {
   "cell_type": "code",
   "execution_count": 7,
   "outputs": [
    {
     "data": {
      "text/plain": "       artwork_id                                              title  \\\n0           33599                                Study for Head Bath   \n1           64139                                       General Nuke   \n2           61629                                         BAS-RELIEF   \n3           45972                                   Honey under Sink   \n4           45997                                  Honey under Chair   \n...           ...                                                ...   \n130257     217844  Club 57 Shows: Playboy Bunny Night (at Mudd Club)   \n130258     217972                  Judson Church, Ray Gun Specs, etc   \n130259     217981                                    Fluxus Festival   \n130260     217984   Fluxus-Manifestatie in en Rond Kunsthandel Monet   \n130261     217986                                       Unidentified   \n\n       artist_id          name_x  date  \\\n0              1  Robert Arneson  1977   \n1              1  Robert Arneson  1986   \n2              2  Doroteo Arnaiz   NaN   \n3              3     Bill Arnold  1971   \n4              3     Bill Arnold  1971   \n...          ...             ...   ...   \n130257       NaN             NaN  1980   \n130258       NaN             NaN   NaN   \n130259       NaN             NaN  1962   \n130260       NaN             NaN  1962   \n130261       NaN             NaN   NaN   \n\n                                        medium  \\\n0             Conté crayon and pencil on paper   \n1                                   Lithograph   \n2                    Etching, printed in color   \n3       Microfilm reader-printer machine print   \n4       Microfilm reader-printer machine print   \n...                                        ...   \n130257                                   Video   \n130258                                Cassette   \n130259                              Audio reel   \n130260                                     VHS   \n130261                                Cassette   \n\n                                               dimensions acquisition_date  \\\n0                      41 5/8 x 29 7/8\" (105.8 x 75.8 cm)        4/28/1981   \n1       composition (irreg.): 31 11/16 x 23 5/16\" (80....        5/28/1997   \n2       Plate 21 1/2 x 15 5/8\" (54.7 x 39.7 cm) Sheet ...         3/9/1965   \n3                           15 x 22 7/8\" (38.1 x 58.2 cm)         3/7/1972   \n4                           15 x 22 3/4\" (38.1 x 57.8 cm)         3/7/1972   \n...                                                   ...              ...   \n130257                                                NaN          2016-10   \n130258                                                NaN        10/8/2008   \n130259                                                NaN        10/8/2008   \n130260                                                NaN        10/8/2008   \n130261                                                NaN        10/8/2008   \n\n                                                   credit catalogue  \\\n0             Gift of the Friends of Contemporary Drawing         Y   \n1                                  Gift of Landfall Press         Y   \n2                                      Gift of the artist         N   \n3                                                Purchase         Y   \n4                                                Purchase         Y   \n...                                                   ...       ...   \n130257                                Gift of Barry Shils         N   \n130258  The Gilbert and Lila Silverman Fluxus Collecti...         N   \n130259  The Gilbert and Lila Silverman Fluxus Collecti...         N   \n130260  The Gilbert and Lila Silverman Fluxus Collecti...         N   \n130261  The Gilbert and Lila Silverman Fluxus Collecti...         N   \n\n                        department classification object_number diameter_cm  \\\n0                         Drawings        Drawing       67.1981         NaN   \n1       Prints & Illustrated Books          Print      192.1997         NaN   \n2       Prints & Illustrated Books          Print       87.1965         NaN   \n3                      Photography     Photograph       87.1972         NaN   \n4                      Photography     Photograph       88.1972         NaN   \n...                            ...            ...           ...         ...   \n130257                        Film          Video        819142         NaN   \n130258           Fluxus Collection          Media        FC5027         NaN   \n130259           Fluxus Collection          Media        FC5036         NaN   \n130260           Fluxus Collection          Media        FC5039         NaN   \n130261           Fluxus Collection          Media        FC5041         NaN   \n\n       circumference_cm height_cm length_cm width_cm depth_cm weight_kg  \\\n0                   NaN     105.7       NaN     75.9      NaN       NaN   \n1                   NaN      80.5       NaN     59.2      NaN       NaN   \n2                   NaN      54.7       NaN     39.7      NaN       NaN   \n3                   NaN      38.1       NaN     58.2      NaN       NaN   \n4                   NaN      38.1       NaN     57.8      NaN       NaN   \n...                 ...       ...       ...      ...      ...       ...   \n130257              NaN       NaN       NaN      NaN      NaN       NaN   \n130258              NaN         0       NaN        0        0       NaN   \n130259              NaN         0       NaN        0        0       NaN   \n130260              NaN         0       NaN        0        0       NaN   \n130261              NaN         0       NaN        0        0       NaN   \n\n       duration_s          name_y nationality gender birth_year death_year  \n0             NaN  Robert Arneson    American   Male       1930       1992  \n1             NaN  Robert Arneson    American   Male       1930       1992  \n2             NaN  Doroteo Arnaiz     Spanish   Male       1936        NaN  \n3             NaN     Bill Arnold    American   Male       1941        NaN  \n4             NaN     Bill Arnold    American   Male       1941        NaN  \n...           ...             ...         ...    ...        ...        ...  \n130257        NaN             NaN         NaN    NaN        NaN        NaN  \n130258        NaN             NaN         NaN    NaN        NaN        NaN  \n130259        NaN             NaN         NaN    NaN        NaN        NaN  \n130260        NaN             NaN         NaN    NaN        NaN        NaN  \n130261        NaN             NaN         NaN    NaN        NaN        NaN  \n\n[130262 rows x 26 columns]",
      "text/html": "<div>\n<style scoped>\n    .dataframe tbody tr th:only-of-type {\n        vertical-align: middle;\n    }\n\n    .dataframe tbody tr th {\n        vertical-align: top;\n    }\n\n    .dataframe thead th {\n        text-align: right;\n    }\n</style>\n<table border=\"1\" class=\"dataframe\">\n  <thead>\n    <tr style=\"text-align: right;\">\n      <th></th>\n      <th>artwork_id</th>\n      <th>title</th>\n      <th>artist_id</th>\n      <th>name_x</th>\n      <th>date</th>\n      <th>medium</th>\n      <th>dimensions</th>\n      <th>acquisition_date</th>\n      <th>credit</th>\n      <th>catalogue</th>\n      <th>department</th>\n      <th>classification</th>\n      <th>object_number</th>\n      <th>diameter_cm</th>\n      <th>circumference_cm</th>\n      <th>height_cm</th>\n      <th>length_cm</th>\n      <th>width_cm</th>\n      <th>depth_cm</th>\n      <th>weight_kg</th>\n      <th>duration_s</th>\n      <th>name_y</th>\n      <th>nationality</th>\n      <th>gender</th>\n      <th>birth_year</th>\n      <th>death_year</th>\n    </tr>\n  </thead>\n  <tbody>\n    <tr>\n      <th>0</th>\n      <td>33599</td>\n      <td>Study for Head Bath</td>\n      <td>1</td>\n      <td>Robert Arneson</td>\n      <td>1977</td>\n      <td>Conté crayon and pencil on paper</td>\n      <td>41 5/8 x 29 7/8\" (105.8 x 75.8 cm)</td>\n      <td>4/28/1981</td>\n      <td>Gift of the Friends of Contemporary Drawing</td>\n      <td>Y</td>\n      <td>Drawings</td>\n      <td>Drawing</td>\n      <td>67.1981</td>\n      <td>NaN</td>\n      <td>NaN</td>\n      <td>105.7</td>\n      <td>NaN</td>\n      <td>75.9</td>\n      <td>NaN</td>\n      <td>NaN</td>\n      <td>NaN</td>\n      <td>Robert Arneson</td>\n      <td>American</td>\n      <td>Male</td>\n      <td>1930</td>\n      <td>1992</td>\n    </tr>\n    <tr>\n      <th>1</th>\n      <td>64139</td>\n      <td>General Nuke</td>\n      <td>1</td>\n      <td>Robert Arneson</td>\n      <td>1986</td>\n      <td>Lithograph</td>\n      <td>composition (irreg.): 31 11/16 x 23 5/16\" (80....</td>\n      <td>5/28/1997</td>\n      <td>Gift of Landfall Press</td>\n      <td>Y</td>\n      <td>Prints &amp; Illustrated Books</td>\n      <td>Print</td>\n      <td>192.1997</td>\n      <td>NaN</td>\n      <td>NaN</td>\n      <td>80.5</td>\n      <td>NaN</td>\n      <td>59.2</td>\n      <td>NaN</td>\n      <td>NaN</td>\n      <td>NaN</td>\n      <td>Robert Arneson</td>\n      <td>American</td>\n      <td>Male</td>\n      <td>1930</td>\n      <td>1992</td>\n    </tr>\n    <tr>\n      <th>2</th>\n      <td>61629</td>\n      <td>BAS-RELIEF</td>\n      <td>2</td>\n      <td>Doroteo Arnaiz</td>\n      <td>NaN</td>\n      <td>Etching, printed in color</td>\n      <td>Plate 21 1/2 x 15 5/8\" (54.7 x 39.7 cm) Sheet ...</td>\n      <td>3/9/1965</td>\n      <td>Gift of the artist</td>\n      <td>N</td>\n      <td>Prints &amp; Illustrated Books</td>\n      <td>Print</td>\n      <td>87.1965</td>\n      <td>NaN</td>\n      <td>NaN</td>\n      <td>54.7</td>\n      <td>NaN</td>\n      <td>39.7</td>\n      <td>NaN</td>\n      <td>NaN</td>\n      <td>NaN</td>\n      <td>Doroteo Arnaiz</td>\n      <td>Spanish</td>\n      <td>Male</td>\n      <td>1936</td>\n      <td>NaN</td>\n    </tr>\n    <tr>\n      <th>3</th>\n      <td>45972</td>\n      <td>Honey under Sink</td>\n      <td>3</td>\n      <td>Bill Arnold</td>\n      <td>1971</td>\n      <td>Microfilm reader-printer machine print</td>\n      <td>15 x 22 7/8\" (38.1 x 58.2 cm)</td>\n      <td>3/7/1972</td>\n      <td>Purchase</td>\n      <td>Y</td>\n      <td>Photography</td>\n      <td>Photograph</td>\n      <td>87.1972</td>\n      <td>NaN</td>\n      <td>NaN</td>\n      <td>38.1</td>\n      <td>NaN</td>\n      <td>58.2</td>\n      <td>NaN</td>\n      <td>NaN</td>\n      <td>NaN</td>\n      <td>Bill Arnold</td>\n      <td>American</td>\n      <td>Male</td>\n      <td>1941</td>\n      <td>NaN</td>\n    </tr>\n    <tr>\n      <th>4</th>\n      <td>45997</td>\n      <td>Honey under Chair</td>\n      <td>3</td>\n      <td>Bill Arnold</td>\n      <td>1971</td>\n      <td>Microfilm reader-printer machine print</td>\n      <td>15 x 22 3/4\" (38.1 x 57.8 cm)</td>\n      <td>3/7/1972</td>\n      <td>Purchase</td>\n      <td>Y</td>\n      <td>Photography</td>\n      <td>Photograph</td>\n      <td>88.1972</td>\n      <td>NaN</td>\n      <td>NaN</td>\n      <td>38.1</td>\n      <td>NaN</td>\n      <td>57.8</td>\n      <td>NaN</td>\n      <td>NaN</td>\n      <td>NaN</td>\n      <td>Bill Arnold</td>\n      <td>American</td>\n      <td>Male</td>\n      <td>1941</td>\n      <td>NaN</td>\n    </tr>\n    <tr>\n      <th>...</th>\n      <td>...</td>\n      <td>...</td>\n      <td>...</td>\n      <td>...</td>\n      <td>...</td>\n      <td>...</td>\n      <td>...</td>\n      <td>...</td>\n      <td>...</td>\n      <td>...</td>\n      <td>...</td>\n      <td>...</td>\n      <td>...</td>\n      <td>...</td>\n      <td>...</td>\n      <td>...</td>\n      <td>...</td>\n      <td>...</td>\n      <td>...</td>\n      <td>...</td>\n      <td>...</td>\n      <td>...</td>\n      <td>...</td>\n      <td>...</td>\n      <td>...</td>\n      <td>...</td>\n    </tr>\n    <tr>\n      <th>130257</th>\n      <td>217844</td>\n      <td>Club 57 Shows: Playboy Bunny Night (at Mudd Club)</td>\n      <td>NaN</td>\n      <td>NaN</td>\n      <td>1980</td>\n      <td>Video</td>\n      <td>NaN</td>\n      <td>2016-10</td>\n      <td>Gift of Barry Shils</td>\n      <td>N</td>\n      <td>Film</td>\n      <td>Video</td>\n      <td>819142</td>\n      <td>NaN</td>\n      <td>NaN</td>\n      <td>NaN</td>\n      <td>NaN</td>\n      <td>NaN</td>\n      <td>NaN</td>\n      <td>NaN</td>\n      <td>NaN</td>\n      <td>NaN</td>\n      <td>NaN</td>\n      <td>NaN</td>\n      <td>NaN</td>\n      <td>NaN</td>\n    </tr>\n    <tr>\n      <th>130258</th>\n      <td>217972</td>\n      <td>Judson Church, Ray Gun Specs, etc</td>\n      <td>NaN</td>\n      <td>NaN</td>\n      <td>NaN</td>\n      <td>Cassette</td>\n      <td>NaN</td>\n      <td>10/8/2008</td>\n      <td>The Gilbert and Lila Silverman Fluxus Collecti...</td>\n      <td>N</td>\n      <td>Fluxus Collection</td>\n      <td>Media</td>\n      <td>FC5027</td>\n      <td>NaN</td>\n      <td>NaN</td>\n      <td>0</td>\n      <td>NaN</td>\n      <td>0</td>\n      <td>0</td>\n      <td>NaN</td>\n      <td>NaN</td>\n      <td>NaN</td>\n      <td>NaN</td>\n      <td>NaN</td>\n      <td>NaN</td>\n      <td>NaN</td>\n    </tr>\n    <tr>\n      <th>130259</th>\n      <td>217981</td>\n      <td>Fluxus Festival</td>\n      <td>NaN</td>\n      <td>NaN</td>\n      <td>1962</td>\n      <td>Audio reel</td>\n      <td>NaN</td>\n      <td>10/8/2008</td>\n      <td>The Gilbert and Lila Silverman Fluxus Collecti...</td>\n      <td>N</td>\n      <td>Fluxus Collection</td>\n      <td>Media</td>\n      <td>FC5036</td>\n      <td>NaN</td>\n      <td>NaN</td>\n      <td>0</td>\n      <td>NaN</td>\n      <td>0</td>\n      <td>0</td>\n      <td>NaN</td>\n      <td>NaN</td>\n      <td>NaN</td>\n      <td>NaN</td>\n      <td>NaN</td>\n      <td>NaN</td>\n      <td>NaN</td>\n    </tr>\n    <tr>\n      <th>130260</th>\n      <td>217984</td>\n      <td>Fluxus-Manifestatie in en Rond Kunsthandel Monet</td>\n      <td>NaN</td>\n      <td>NaN</td>\n      <td>1962</td>\n      <td>VHS</td>\n      <td>NaN</td>\n      <td>10/8/2008</td>\n      <td>The Gilbert and Lila Silverman Fluxus Collecti...</td>\n      <td>N</td>\n      <td>Fluxus Collection</td>\n      <td>Media</td>\n      <td>FC5039</td>\n      <td>NaN</td>\n      <td>NaN</td>\n      <td>0</td>\n      <td>NaN</td>\n      <td>0</td>\n      <td>0</td>\n      <td>NaN</td>\n      <td>NaN</td>\n      <td>NaN</td>\n      <td>NaN</td>\n      <td>NaN</td>\n      <td>NaN</td>\n      <td>NaN</td>\n    </tr>\n    <tr>\n      <th>130261</th>\n      <td>217986</td>\n      <td>Unidentified</td>\n      <td>NaN</td>\n      <td>NaN</td>\n      <td>NaN</td>\n      <td>Cassette</td>\n      <td>NaN</td>\n      <td>10/8/2008</td>\n      <td>The Gilbert and Lila Silverman Fluxus Collecti...</td>\n      <td>N</td>\n      <td>Fluxus Collection</td>\n      <td>Media</td>\n      <td>FC5041</td>\n      <td>NaN</td>\n      <td>NaN</td>\n      <td>0</td>\n      <td>NaN</td>\n      <td>0</td>\n      <td>0</td>\n      <td>NaN</td>\n      <td>NaN</td>\n      <td>NaN</td>\n      <td>NaN</td>\n      <td>NaN</td>\n      <td>NaN</td>\n      <td>NaN</td>\n    </tr>\n  </tbody>\n</table>\n<p>130262 rows × 26 columns</p>\n</div>"
     },
     "execution_count": 7,
     "metadata": {},
     "output_type": "execute_result"
    }
   ],
   "source": [
    "# let's drop work where there are no artwork ids since no art information is available\n",
    "whole.dropna(subset=['artwork_id'])"
   ],
   "metadata": {
    "collapsed": false,
    "pycharm": {
     "name": "#%%\n"
    }
   }
  },
  {
   "cell_type": "code",
   "execution_count": 8,
   "outputs": [
    {
     "data": {
      "text/plain": "artwork_id          object\ntitle               object\nartist_id           object\nname_x              object\ndate                object\nmedium              object\ndimensions          object\nacquisition_date    object\ncredit              object\ncatalogue           object\ndepartment          object\nclassification      object\nobject_number       object\ndiameter_cm         object\ncircumference_cm    object\nheight_cm           object\nlength_cm           object\nwidth_cm            object\ndepth_cm            object\nweight_kg           object\nduration_s          object\nname_y              object\nnationality         object\ngender              object\nbirth_year          object\ndeath_year          object\ndtype: object"
     },
     "execution_count": 8,
     "metadata": {},
     "output_type": "execute_result"
    }
   ],
   "source": [
    "# the data types are all objects, so we will need to convert those that shouldn't be objects\n",
    "whole.dtypes"
   ],
   "metadata": {
    "collapsed": false,
    "pycharm": {
     "name": "#%%\n"
    }
   }
  },
  {
   "cell_type": "code",
   "execution_count": 9,
   "outputs": [],
   "source": [
    "# this uncovered a casing issue which we will fix below\n",
    "whole['gender']= whole['gender'].str.title()\n",
    "\n",
    "# we need to replace those NaNs with a categorical identifier like \"Gender Unknown\"\n",
    "whole['gender'] = whole['gender'].fillna('Gender Unknown')"
   ],
   "metadata": {
    "collapsed": false,
    "pycharm": {
     "name": "#%%\n"
    }
   }
  },
  {
   "cell_type": "code",
   "execution_count": 10,
   "outputs": [
    {
     "data": {
      "text/plain": "array(['Male', 'Female', 'Gender Unknown'], dtype=object)"
     },
     "execution_count": 10,
     "metadata": {},
     "output_type": "execute_result"
    }
   ],
   "source": [
    "whole.gender.unique()"
   ],
   "metadata": {
    "collapsed": false,
    "pycharm": {
     "name": "#%%\n"
    }
   }
  },
  {
   "cell_type": "code",
   "execution_count": 11,
   "outputs": [
    {
     "data": {
      "text/plain": "  artwork_id                title artist_id          name_x  date  \\\n0      33599  Study for Head Bath         1  Robert Arneson  1977   \n1      64139         General Nuke         1  Robert Arneson  1986   \n2      61629           BAS-RELIEF         2  Doroteo Arnaiz   NaN   \n3      45972     Honey under Sink         3     Bill Arnold  1971   \n4      45997    Honey under Chair         3     Bill Arnold  1971   \n\n  acquisition_date                                       credit  \\\n0        4/28/1981  Gift of the Friends of Contemporary Drawing   \n1        5/28/1997                       Gift of Landfall Press   \n2         3/9/1965                           Gift of the artist   \n3         3/7/1972                                     Purchase   \n4         3/7/1972                                     Purchase   \n\n  classification weight_kg nationality gender birth_year death_year  \n0        Drawing       NaN    American   Male       1930       1992  \n1          Print       NaN    American   Male       1930       1992  \n2          Print       NaN     Spanish   Male       1936        NaN  \n3     Photograph       NaN    American   Male       1941        NaN  \n4     Photograph       NaN    American   Male       1941        NaN  ",
      "text/html": "<div>\n<style scoped>\n    .dataframe tbody tr th:only-of-type {\n        vertical-align: middle;\n    }\n\n    .dataframe tbody tr th {\n        vertical-align: top;\n    }\n\n    .dataframe thead th {\n        text-align: right;\n    }\n</style>\n<table border=\"1\" class=\"dataframe\">\n  <thead>\n    <tr style=\"text-align: right;\">\n      <th></th>\n      <th>artwork_id</th>\n      <th>title</th>\n      <th>artist_id</th>\n      <th>name_x</th>\n      <th>date</th>\n      <th>acquisition_date</th>\n      <th>credit</th>\n      <th>classification</th>\n      <th>weight_kg</th>\n      <th>nationality</th>\n      <th>gender</th>\n      <th>birth_year</th>\n      <th>death_year</th>\n    </tr>\n  </thead>\n  <tbody>\n    <tr>\n      <th>0</th>\n      <td>33599</td>\n      <td>Study for Head Bath</td>\n      <td>1</td>\n      <td>Robert Arneson</td>\n      <td>1977</td>\n      <td>4/28/1981</td>\n      <td>Gift of the Friends of Contemporary Drawing</td>\n      <td>Drawing</td>\n      <td>NaN</td>\n      <td>American</td>\n      <td>Male</td>\n      <td>1930</td>\n      <td>1992</td>\n    </tr>\n    <tr>\n      <th>1</th>\n      <td>64139</td>\n      <td>General Nuke</td>\n      <td>1</td>\n      <td>Robert Arneson</td>\n      <td>1986</td>\n      <td>5/28/1997</td>\n      <td>Gift of Landfall Press</td>\n      <td>Print</td>\n      <td>NaN</td>\n      <td>American</td>\n      <td>Male</td>\n      <td>1930</td>\n      <td>1992</td>\n    </tr>\n    <tr>\n      <th>2</th>\n      <td>61629</td>\n      <td>BAS-RELIEF</td>\n      <td>2</td>\n      <td>Doroteo Arnaiz</td>\n      <td>NaN</td>\n      <td>3/9/1965</td>\n      <td>Gift of the artist</td>\n      <td>Print</td>\n      <td>NaN</td>\n      <td>Spanish</td>\n      <td>Male</td>\n      <td>1936</td>\n      <td>NaN</td>\n    </tr>\n    <tr>\n      <th>3</th>\n      <td>45972</td>\n      <td>Honey under Sink</td>\n      <td>3</td>\n      <td>Bill Arnold</td>\n      <td>1971</td>\n      <td>3/7/1972</td>\n      <td>Purchase</td>\n      <td>Photograph</td>\n      <td>NaN</td>\n      <td>American</td>\n      <td>Male</td>\n      <td>1941</td>\n      <td>NaN</td>\n    </tr>\n    <tr>\n      <th>4</th>\n      <td>45997</td>\n      <td>Honey under Chair</td>\n      <td>3</td>\n      <td>Bill Arnold</td>\n      <td>1971</td>\n      <td>3/7/1972</td>\n      <td>Purchase</td>\n      <td>Photograph</td>\n      <td>NaN</td>\n      <td>American</td>\n      <td>Male</td>\n      <td>1941</td>\n      <td>NaN</td>\n    </tr>\n  </tbody>\n</table>\n</div>"
     },
     "execution_count": 11,
     "metadata": {},
     "output_type": "execute_result"
    }
   ],
   "source": [
    "# make a new df with only the columns you need\n",
    "select = whole.loc[:,['artwork_id', 'title', 'artist_id', 'name_x', 'date', 'acquisition_date', 'credit', 'classification','weight_kg', 'nationality', 'gender', 'birth_year', 'death_year']]\n",
    "select.head()"
   ],
   "metadata": {
    "collapsed": false,
    "pycharm": {
     "name": "#%%\n"
    }
   }
  },
  {
   "cell_type": "code",
   "execution_count": 12,
   "outputs": [
    {
     "data": {
      "text/plain": "       artwork_id     title artist_id        name_x    date acquisition_date  \\\ncount      130262    130210    128802        128802  127950           124799   \nunique     130262     94881     13575         13530    9370             1876   \ntop         33599  Untitled       229  Eugène Atget    1971        10/6/1964   \nfreq            1      7180      5050          5050    1748            11220   \n\n                               credit classification weight_kg nationality  \\\ncount                          127192         130262       298      119063   \nunique                           7030             28       200         121   \ntop     The Louis E. Stern Collection          Print     4.536    American   \nfreq                            10927          30807         6       54545   \n\n        gender birth_year death_year  \ncount   130262     115218      77162  \nunique       3        215        163  \ntop       Male       1857       1927  \nfreq     99984       5111       5136  ",
      "text/html": "<div>\n<style scoped>\n    .dataframe tbody tr th:only-of-type {\n        vertical-align: middle;\n    }\n\n    .dataframe tbody tr th {\n        vertical-align: top;\n    }\n\n    .dataframe thead th {\n        text-align: right;\n    }\n</style>\n<table border=\"1\" class=\"dataframe\">\n  <thead>\n    <tr style=\"text-align: right;\">\n      <th></th>\n      <th>artwork_id</th>\n      <th>title</th>\n      <th>artist_id</th>\n      <th>name_x</th>\n      <th>date</th>\n      <th>acquisition_date</th>\n      <th>credit</th>\n      <th>classification</th>\n      <th>weight_kg</th>\n      <th>nationality</th>\n      <th>gender</th>\n      <th>birth_year</th>\n      <th>death_year</th>\n    </tr>\n  </thead>\n  <tbody>\n    <tr>\n      <th>count</th>\n      <td>130262</td>\n      <td>130210</td>\n      <td>128802</td>\n      <td>128802</td>\n      <td>127950</td>\n      <td>124799</td>\n      <td>127192</td>\n      <td>130262</td>\n      <td>298</td>\n      <td>119063</td>\n      <td>130262</td>\n      <td>115218</td>\n      <td>77162</td>\n    </tr>\n    <tr>\n      <th>unique</th>\n      <td>130262</td>\n      <td>94881</td>\n      <td>13575</td>\n      <td>13530</td>\n      <td>9370</td>\n      <td>1876</td>\n      <td>7030</td>\n      <td>28</td>\n      <td>200</td>\n      <td>121</td>\n      <td>3</td>\n      <td>215</td>\n      <td>163</td>\n    </tr>\n    <tr>\n      <th>top</th>\n      <td>33599</td>\n      <td>Untitled</td>\n      <td>229</td>\n      <td>Eugène Atget</td>\n      <td>1971</td>\n      <td>10/6/1964</td>\n      <td>The Louis E. Stern Collection</td>\n      <td>Print</td>\n      <td>4.536</td>\n      <td>American</td>\n      <td>Male</td>\n      <td>1857</td>\n      <td>1927</td>\n    </tr>\n    <tr>\n      <th>freq</th>\n      <td>1</td>\n      <td>7180</td>\n      <td>5050</td>\n      <td>5050</td>\n      <td>1748</td>\n      <td>11220</td>\n      <td>10927</td>\n      <td>30807</td>\n      <td>6</td>\n      <td>54545</td>\n      <td>99984</td>\n      <td>5111</td>\n      <td>5136</td>\n    </tr>\n  </tbody>\n</table>\n</div>"
     },
     "execution_count": 12,
     "metadata": {},
     "output_type": "execute_result"
    }
   ],
   "source": [
    "# let's see what items are most prevalent in our dataset\n",
    "select.describe(include=['object'])"
   ],
   "metadata": {
    "collapsed": false,
    "pycharm": {
     "name": "#%%\n"
    }
   }
  },
  {
   "cell_type": "code",
   "execution_count": 13,
   "outputs": [
    {
     "name": "stdout",
     "output_type": "stream",
     "text": [
      "<class 'pandas.core.frame.DataFrame'>\n",
      "Int64Index: 130262 entries, 0 to 130261\n",
      "Data columns (total 13 columns):\n",
      " #   Column            Non-Null Count   Dtype \n",
      "---  ------            --------------   ----- \n",
      " 0   artwork_id        130262 non-null  object\n",
      " 1   title             130210 non-null  object\n",
      " 2   artist_id         128802 non-null  object\n",
      " 3   name_x            128802 non-null  object\n",
      " 4   date              127950 non-null  object\n",
      " 5   acquisition_date  124799 non-null  object\n",
      " 6   credit            127192 non-null  object\n",
      " 7   classification    130262 non-null  object\n",
      " 8   weight_kg         298 non-null     object\n",
      " 9   nationality       119063 non-null  object\n",
      " 10  gender            130262 non-null  object\n",
      " 11  birth_year        115218 non-null  object\n",
      " 12  death_year        77162 non-null   object\n",
      "dtypes: object(13)\n",
      "memory usage: 13.9+ MB\n"
     ]
    }
   ],
   "source": [
    "select.info()"
   ],
   "metadata": {
    "collapsed": false,
    "pycharm": {
     "name": "#%%\n"
    }
   }
  },
  {
   "cell_type": "code",
   "execution_count": 14,
   "outputs": [
    {
     "data": {
      "text/plain": "array([1981, 1997, 1965, 1972, 1980, 1979, 1952, 1956, 1953, 1945, 1960,\n       1975, 1970, 1963, 1950, 1958, 1947, 1951, 1949, 1964, 1936, 1937,\n       1954, 1939, 1967, 1940, 1969, 1961, 1968, 1990, 1985, 2008, 2013,\n       1988, 1942, 1996, 1999, 1998, 1992, 1977, 1978, 1991, 1994, 1971,\n       2001, 2002, 2005, 2012, 2015,    0, 1974, 1983, 1984, 1982, 1966,\n       2000, 1946, 1943, 2004, 1987, 1993, 1941, 1959, 1995, 1986, 2006,\n       2007, 2009, 2010, 2011, 1955, 1948, 1976, 1938, 1989, 1944, 1957,\n       2014, 2016, 1962, 1973, 2003, 1934, 1935, 1932, 1929, 1933, 1930,\n       1931])"
     },
     "execution_count": 14,
     "metadata": {},
     "output_type": "execute_result"
    }
   ],
   "source": [
    "# let's start handling dates - first up acquisition year\n",
    "select['acquisition_year'] = select['acquisition_date'].str[-4:]\n",
    "select['acquisition_year'] = select['acquisition_year'].fillna(0)\n",
    "select = select[select['acquisition_year'] != '0-18']\n",
    "select['acquisition_year'].replace({'6-05': '2016', '6-10':'2016'}, inplace=True)\n",
    "select['acquisition_year'] = select['acquisition_year'].astype(str).astype(int)\n",
    "select.acquisition_year.unique()"
   ],
   "metadata": {
    "collapsed": false,
    "pycharm": {
     "name": "#%%\n"
    }
   }
  },
  {
   "cell_type": "code",
   "execution_count": 15,
   "outputs": [
    {
     "data": {
      "text/plain": "array([1992,    0, 1966, 1995, 1997, 1964, 2013, 1942, 1941, 1940, 2000,\n       1976, 1949, 2008, 1973, 1953, 1991, 1971, 2010, 2011, 2007, 1994,\n       1967, 1881, 1984, 2002, 1951, 1988, 1987, 1978, 1993, 1894, 1999,\n       1975, 1996, 1969, 2012, 1983, 1989, 1959, 2003, 1936, 2006, 1961,\n       1998, 1980, 1982, 1877, 1956, 1879, 1946, 1887, 1985, 2005, 1927,\n       1952, 1871, 1931, 1960, 1948, 2009, 2004, 1965, 1955, 2001, 1981,\n       1990, 1924, 1986, 1968, 1882, 1958, 2014, 2016, 1972, 1944, 1905,\n       1938, 1902, 1934, 1979, 1963, 1954, 1898, 1903, 1950, 1922, 1893,\n       1910, 1925, 1908, 1962, 1957, 1900, 1909, 1977, 1828, 1933, 1870,\n       1896, 1916, 1930, 1970, 1885, 1947, 1943, 1929, 1912, 1919, 1937,\n       1945, 1939, 2015, 1890, 1906, 1926, 1856, 1932, 1863, 1974, 1875,\n       1913, 1878, 1928, 1901, 1920, 1917, 1935, 1886, 1876, 1889, 1883,\n       1904, 1918, 1899, 1869, 1921, 1915, 2017, 1914, 1855, 1865, 1911,\n       1907, 1884, 1872, 1895, 1880, 1891, 1874, 1923, 1888, 1857, 1892,\n       1795, 1866, 1858, 1864, 1867, 1868, 1873, 1859, 1851, 1852])"
     },
     "execution_count": 15,
     "metadata": {},
     "output_type": "execute_result"
    }
   ],
   "source": [
    "# next up - birth and death year\n",
    "select['birth_year'] = select['birth_year'].replace([''],'0').fillna(0).astype(str).astype(int)\n",
    "select['death_year'] = select['death_year'].replace([''],'0').fillna(0).astype(str).astype(int)\n",
    "select.death_year.unique()"
   ],
   "metadata": {
    "collapsed": false,
    "pycharm": {
     "name": "#%%\n"
    }
   }
  },
  {
   "cell_type": "code",
   "execution_count": 16,
   "outputs": [],
   "source": [
    "# let's make sure all the artists, credit, title, and nationality casings are consistent\n",
    "select[\"title\"]= select[\"title\"].str.title()\n",
    "select[\"name_x\"]= select[\"name_x\"].str.title()\n",
    "select[\"credit\"]= select[\"credit\"].str.title()\n",
    "select[\"classification\"]= select[\"classification\"].str.title()\n",
    "select['nationality']= select['nationality'].str.title()"
   ],
   "metadata": {
    "collapsed": false,
    "pycharm": {
     "name": "#%%\n"
    }
   }
  },
  {
   "cell_type": "code",
   "execution_count": 17,
   "outputs": [],
   "source": [
    "# we can add new columns with meaningful information\n",
    "select['age_at_acq'] = select['acquisition_year'] - select['birth_year'].astype(int)\n",
    "select['age_at_death'] = select['death_year'] - select['birth_year']"
   ],
   "metadata": {
    "collapsed": false,
    "pycharm": {
     "name": "#%%\n"
    }
   }
  },
  {
   "cell_type": "code",
   "execution_count": 18,
   "outputs": [
    {
     "data": {
      "text/plain": "  artwork_id                title artist_id          name_x  date  \\\n0      33599  Study For Head Bath         1  Robert Arneson  1977   \n1      64139         General Nuke         1  Robert Arneson  1986   \n2      61629           Bas-Relief         2  Doroteo Arnaiz   NaN   \n3      45972     Honey Under Sink         3     Bill Arnold  1971   \n4      45997    Honey Under Chair         3     Bill Arnold  1971   \n\n  acquisition_date                                       credit  \\\n0        4/28/1981  Gift Of The Friends Of Contemporary Drawing   \n1        5/28/1997                       Gift Of Landfall Press   \n2         3/9/1965                           Gift Of The Artist   \n3         3/7/1972                                     Purchase   \n4         3/7/1972                                     Purchase   \n\n  classification weight_kg nationality gender  birth_year  death_year  \\\n0        Drawing       NaN    American   Male        1930        1992   \n1          Print       NaN    American   Male        1930        1992   \n2          Print       NaN     Spanish   Male        1936           0   \n3     Photograph       NaN    American   Male        1941           0   \n4     Photograph       NaN    American   Male        1941           0   \n\n   acquisition_year  age_at_acq  age_at_death  \n0              1981          51            62  \n1              1997          62            62  \n2              1965          29             0  \n3              1972          31             0  \n4              1972          31             0  ",
      "text/html": "<div>\n<style scoped>\n    .dataframe tbody tr th:only-of-type {\n        vertical-align: middle;\n    }\n\n    .dataframe tbody tr th {\n        vertical-align: top;\n    }\n\n    .dataframe thead th {\n        text-align: right;\n    }\n</style>\n<table border=\"1\" class=\"dataframe\">\n  <thead>\n    <tr style=\"text-align: right;\">\n      <th></th>\n      <th>artwork_id</th>\n      <th>title</th>\n      <th>artist_id</th>\n      <th>name_x</th>\n      <th>date</th>\n      <th>acquisition_date</th>\n      <th>credit</th>\n      <th>classification</th>\n      <th>weight_kg</th>\n      <th>nationality</th>\n      <th>gender</th>\n      <th>birth_year</th>\n      <th>death_year</th>\n      <th>acquisition_year</th>\n      <th>age_at_acq</th>\n      <th>age_at_death</th>\n    </tr>\n  </thead>\n  <tbody>\n    <tr>\n      <th>0</th>\n      <td>33599</td>\n      <td>Study For Head Bath</td>\n      <td>1</td>\n      <td>Robert Arneson</td>\n      <td>1977</td>\n      <td>4/28/1981</td>\n      <td>Gift Of The Friends Of Contemporary Drawing</td>\n      <td>Drawing</td>\n      <td>NaN</td>\n      <td>American</td>\n      <td>Male</td>\n      <td>1930</td>\n      <td>1992</td>\n      <td>1981</td>\n      <td>51</td>\n      <td>62</td>\n    </tr>\n    <tr>\n      <th>1</th>\n      <td>64139</td>\n      <td>General Nuke</td>\n      <td>1</td>\n      <td>Robert Arneson</td>\n      <td>1986</td>\n      <td>5/28/1997</td>\n      <td>Gift Of Landfall Press</td>\n      <td>Print</td>\n      <td>NaN</td>\n      <td>American</td>\n      <td>Male</td>\n      <td>1930</td>\n      <td>1992</td>\n      <td>1997</td>\n      <td>62</td>\n      <td>62</td>\n    </tr>\n    <tr>\n      <th>2</th>\n      <td>61629</td>\n      <td>Bas-Relief</td>\n      <td>2</td>\n      <td>Doroteo Arnaiz</td>\n      <td>NaN</td>\n      <td>3/9/1965</td>\n      <td>Gift Of The Artist</td>\n      <td>Print</td>\n      <td>NaN</td>\n      <td>Spanish</td>\n      <td>Male</td>\n      <td>1936</td>\n      <td>0</td>\n      <td>1965</td>\n      <td>29</td>\n      <td>0</td>\n    </tr>\n    <tr>\n      <th>3</th>\n      <td>45972</td>\n      <td>Honey Under Sink</td>\n      <td>3</td>\n      <td>Bill Arnold</td>\n      <td>1971</td>\n      <td>3/7/1972</td>\n      <td>Purchase</td>\n      <td>Photograph</td>\n      <td>NaN</td>\n      <td>American</td>\n      <td>Male</td>\n      <td>1941</td>\n      <td>0</td>\n      <td>1972</td>\n      <td>31</td>\n      <td>0</td>\n    </tr>\n    <tr>\n      <th>4</th>\n      <td>45997</td>\n      <td>Honey Under Chair</td>\n      <td>3</td>\n      <td>Bill Arnold</td>\n      <td>1971</td>\n      <td>3/7/1972</td>\n      <td>Purchase</td>\n      <td>Photograph</td>\n      <td>NaN</td>\n      <td>American</td>\n      <td>Male</td>\n      <td>1941</td>\n      <td>0</td>\n      <td>1972</td>\n      <td>31</td>\n      <td>0</td>\n    </tr>\n  </tbody>\n</table>\n</div>"
     },
     "execution_count": 18,
     "metadata": {},
     "output_type": "execute_result"
    }
   ],
   "source": [
    "# how do we handle cases where people died before art was acquired? missing birth year?\n",
    "select.loc[select['age_at_acq'] > select['age_at_death'], 'age_at_acq'] = select['age_at_death']\n",
    "select.loc[select['age_at_acq'] < 0, 'age_at_acq'] = select['acquisition_year'] - select['birth_year']\n",
    "select.loc[select['death_year'] == 0, 'age_at_acq'] = select['acquisition_year'] - select['birth_year']\n",
    "select.loc[select['death_year'] == 0, 'age_at_death'] = 0\n",
    "select.loc[select['birth_year'] == 0, 'age_at_death'] = 0\n",
    "select.loc[select['birth_year'] == 0, 'age_at_acq'] = 0\n",
    "select.head()"
   ],
   "metadata": {
    "collapsed": false,
    "pycharm": {
     "name": "#%%\n"
    }
   }
  },
  {
   "cell_type": "code",
   "execution_count": 19,
   "outputs": [],
   "source": [
    "select.loc[select['acquisition_year'] < 1, 'age_at_acq'] = 0\n",
    "select.loc[select['age_at_acq'] > 110, 'age_at_acq'] = 0"
   ],
   "metadata": {
    "collapsed": false,
    "pycharm": {
     "name": "#%%\n"
    }
   }
  },
  {
   "cell_type": "code",
   "execution_count": 20,
   "outputs": [
    {
     "data": {
      "text/plain": "       artwork_id             title artist_id  \\\n104464       3863         Telephone     10762   \n104463       3862         Telephone     10762   \n104461       3860         Telephone     10762   \n104460       3859         Telephone     10762   \n113896     188563      Power Symbol     33082   \n...           ...               ...       ...   \n103212     141070          Untitled      8595   \n103211     141069          Untitled      8595   \n130261     217986      Unidentified       NaN   \n99096        3902    Cardboard Lamp      7979   \n49581        7807  Nagauta Shamisen      3321   \n\n                                                 name_x     date  \\\n104464                    Siemens & Halske A.G., Munich  c. 1955   \n104463                    Siemens & Halske A.G., Munich  c. 1955   \n104461                    Siemens & Halske A.G., Munich  c. 1955   \n104460                    Siemens & Halske A.G., Munich  c. 1955   \n113896  International Electrotechnical Commission (Iec)     2002   \n...                                                 ...      ...   \n103212                             Unknown Photographer  c. 1910   \n103211                             Unknown Photographer  c. 1940   \n130261                                              NaN      NaN   \n99096                                    Interware Sarl     1996   \n49581                                  K2 Design Studio     1981   \n\n       acquisition_date                                             credit  \\\n104464       10/25/1956                           Gift Of The Manufacturer   \n104463       10/25/1956                           Gift Of The Manufacturer   \n104461       10/25/1956                           Gift Of The Manufacturer   \n104460       10/25/1956                           Gift Of The Manufacturer   \n113896         3/2/2015                                                NaN   \n...                 ...                                                ...   \n103212        10/7/2010                             Gift Of Peter J. Cohen   \n103211        10/7/2010                             Gift Of Peter J. Cohen   \n130261        10/8/2008  The Gilbert And Lila Silverman Fluxus Collecti...   \n99096        10/17/1997                               Gift Of The Designer   \n49581        12/10/1981             Gift Of The College Of Fine Arts, Ucla   \n\n       classification weight_kg nationality          gender  birth_year  \\\n104464         Design       NaN      German  Gender Unknown        1847   \n104463         Design       NaN      German  Gender Unknown        1847   \n104461         Design       NaN      German  Gender Unknown        1847   \n104460         Design       NaN      German  Gender Unknown        1847   \n113896         Design       NaN       Swiss  Gender Unknown        1906   \n...               ...       ...         ...             ...         ...   \n103212     Photograph       NaN         NaN  Gender Unknown           0   \n103211     Photograph       NaN         NaN  Gender Unknown           0   \n130261          Media       NaN         NaN  Gender Unknown           0   \n99096          Design       NaN      French            Male        2000   \n49581          Design       NaN    Japanese  Gender Unknown        1993   \n\n        death_year  acquisition_year  age_at_acq  age_at_death  \n104464           0              1956         109             0  \n104463           0              1956         109             0  \n104461           0              1956         109             0  \n104460           0              1956         109             0  \n113896           0              2015         109             0  \n...            ...               ...         ...           ...  \n103212           0              2010           0             0  \n103211           0              2010           0             0  \n130261           0              2008           0             0  \n99096            0              1997          -3             0  \n49581            0              1981         -12             0  \n\n[130261 rows x 16 columns]",
      "text/html": "<div>\n<style scoped>\n    .dataframe tbody tr th:only-of-type {\n        vertical-align: middle;\n    }\n\n    .dataframe tbody tr th {\n        vertical-align: top;\n    }\n\n    .dataframe thead th {\n        text-align: right;\n    }\n</style>\n<table border=\"1\" class=\"dataframe\">\n  <thead>\n    <tr style=\"text-align: right;\">\n      <th></th>\n      <th>artwork_id</th>\n      <th>title</th>\n      <th>artist_id</th>\n      <th>name_x</th>\n      <th>date</th>\n      <th>acquisition_date</th>\n      <th>credit</th>\n      <th>classification</th>\n      <th>weight_kg</th>\n      <th>nationality</th>\n      <th>gender</th>\n      <th>birth_year</th>\n      <th>death_year</th>\n      <th>acquisition_year</th>\n      <th>age_at_acq</th>\n      <th>age_at_death</th>\n    </tr>\n  </thead>\n  <tbody>\n    <tr>\n      <th>104464</th>\n      <td>3863</td>\n      <td>Telephone</td>\n      <td>10762</td>\n      <td>Siemens &amp; Halske A.G., Munich</td>\n      <td>c. 1955</td>\n      <td>10/25/1956</td>\n      <td>Gift Of The Manufacturer</td>\n      <td>Design</td>\n      <td>NaN</td>\n      <td>German</td>\n      <td>Gender Unknown</td>\n      <td>1847</td>\n      <td>0</td>\n      <td>1956</td>\n      <td>109</td>\n      <td>0</td>\n    </tr>\n    <tr>\n      <th>104463</th>\n      <td>3862</td>\n      <td>Telephone</td>\n      <td>10762</td>\n      <td>Siemens &amp; Halske A.G., Munich</td>\n      <td>c. 1955</td>\n      <td>10/25/1956</td>\n      <td>Gift Of The Manufacturer</td>\n      <td>Design</td>\n      <td>NaN</td>\n      <td>German</td>\n      <td>Gender Unknown</td>\n      <td>1847</td>\n      <td>0</td>\n      <td>1956</td>\n      <td>109</td>\n      <td>0</td>\n    </tr>\n    <tr>\n      <th>104461</th>\n      <td>3860</td>\n      <td>Telephone</td>\n      <td>10762</td>\n      <td>Siemens &amp; Halske A.G., Munich</td>\n      <td>c. 1955</td>\n      <td>10/25/1956</td>\n      <td>Gift Of The Manufacturer</td>\n      <td>Design</td>\n      <td>NaN</td>\n      <td>German</td>\n      <td>Gender Unknown</td>\n      <td>1847</td>\n      <td>0</td>\n      <td>1956</td>\n      <td>109</td>\n      <td>0</td>\n    </tr>\n    <tr>\n      <th>104460</th>\n      <td>3859</td>\n      <td>Telephone</td>\n      <td>10762</td>\n      <td>Siemens &amp; Halske A.G., Munich</td>\n      <td>c. 1955</td>\n      <td>10/25/1956</td>\n      <td>Gift Of The Manufacturer</td>\n      <td>Design</td>\n      <td>NaN</td>\n      <td>German</td>\n      <td>Gender Unknown</td>\n      <td>1847</td>\n      <td>0</td>\n      <td>1956</td>\n      <td>109</td>\n      <td>0</td>\n    </tr>\n    <tr>\n      <th>113896</th>\n      <td>188563</td>\n      <td>Power Symbol</td>\n      <td>33082</td>\n      <td>International Electrotechnical Commission (Iec)</td>\n      <td>2002</td>\n      <td>3/2/2015</td>\n      <td>NaN</td>\n      <td>Design</td>\n      <td>NaN</td>\n      <td>Swiss</td>\n      <td>Gender Unknown</td>\n      <td>1906</td>\n      <td>0</td>\n      <td>2015</td>\n      <td>109</td>\n      <td>0</td>\n    </tr>\n    <tr>\n      <th>...</th>\n      <td>...</td>\n      <td>...</td>\n      <td>...</td>\n      <td>...</td>\n      <td>...</td>\n      <td>...</td>\n      <td>...</td>\n      <td>...</td>\n      <td>...</td>\n      <td>...</td>\n      <td>...</td>\n      <td>...</td>\n      <td>...</td>\n      <td>...</td>\n      <td>...</td>\n      <td>...</td>\n    </tr>\n    <tr>\n      <th>103212</th>\n      <td>141070</td>\n      <td>Untitled</td>\n      <td>8595</td>\n      <td>Unknown Photographer</td>\n      <td>c. 1910</td>\n      <td>10/7/2010</td>\n      <td>Gift Of Peter J. Cohen</td>\n      <td>Photograph</td>\n      <td>NaN</td>\n      <td>NaN</td>\n      <td>Gender Unknown</td>\n      <td>0</td>\n      <td>0</td>\n      <td>2010</td>\n      <td>0</td>\n      <td>0</td>\n    </tr>\n    <tr>\n      <th>103211</th>\n      <td>141069</td>\n      <td>Untitled</td>\n      <td>8595</td>\n      <td>Unknown Photographer</td>\n      <td>c. 1940</td>\n      <td>10/7/2010</td>\n      <td>Gift Of Peter J. Cohen</td>\n      <td>Photograph</td>\n      <td>NaN</td>\n      <td>NaN</td>\n      <td>Gender Unknown</td>\n      <td>0</td>\n      <td>0</td>\n      <td>2010</td>\n      <td>0</td>\n      <td>0</td>\n    </tr>\n    <tr>\n      <th>130261</th>\n      <td>217986</td>\n      <td>Unidentified</td>\n      <td>NaN</td>\n      <td>NaN</td>\n      <td>NaN</td>\n      <td>10/8/2008</td>\n      <td>The Gilbert And Lila Silverman Fluxus Collecti...</td>\n      <td>Media</td>\n      <td>NaN</td>\n      <td>NaN</td>\n      <td>Gender Unknown</td>\n      <td>0</td>\n      <td>0</td>\n      <td>2008</td>\n      <td>0</td>\n      <td>0</td>\n    </tr>\n    <tr>\n      <th>99096</th>\n      <td>3902</td>\n      <td>Cardboard Lamp</td>\n      <td>7979</td>\n      <td>Interware Sarl</td>\n      <td>1996</td>\n      <td>10/17/1997</td>\n      <td>Gift Of The Designer</td>\n      <td>Design</td>\n      <td>NaN</td>\n      <td>French</td>\n      <td>Male</td>\n      <td>2000</td>\n      <td>0</td>\n      <td>1997</td>\n      <td>-3</td>\n      <td>0</td>\n    </tr>\n    <tr>\n      <th>49581</th>\n      <td>7807</td>\n      <td>Nagauta Shamisen</td>\n      <td>3321</td>\n      <td>K2 Design Studio</td>\n      <td>1981</td>\n      <td>12/10/1981</td>\n      <td>Gift Of The College Of Fine Arts, Ucla</td>\n      <td>Design</td>\n      <td>NaN</td>\n      <td>Japanese</td>\n      <td>Gender Unknown</td>\n      <td>1993</td>\n      <td>0</td>\n      <td>1981</td>\n      <td>-12</td>\n      <td>0</td>\n    </tr>\n  </tbody>\n</table>\n<p>130261 rows × 16 columns</p>\n</div>"
     },
     "execution_count": 20,
     "metadata": {},
     "output_type": "execute_result"
    }
   ],
   "source": [
    "select.sort_values(by='age_at_acq', ascending=False)"
   ],
   "metadata": {
    "collapsed": false,
    "pycharm": {
     "name": "#%%\n"
    }
   }
  },
  {
   "cell_type": "code",
   "execution_count": 21,
   "outputs": [
    {
     "data": {
      "text/plain": "artwork_id          False\ntitle                True\nartist_id            True\nname_x               True\ndate                 True\nacquisition_date     True\ncredit               True\nclassification      False\nweight_kg            True\nnationality          True\ngender              False\nbirth_year          False\ndeath_year          False\nacquisition_year    False\nage_at_acq          False\nage_at_death        False\ndtype: bool"
     },
     "execution_count": 21,
     "metadata": {},
     "output_type": "execute_result"
    }
   ],
   "source": [
    "# let's see if any other columns have nan values\n",
    "select.isna().any()"
   ],
   "metadata": {
    "collapsed": false,
    "pycharm": {
     "name": "#%%\n"
    }
   }
  },
  {
   "cell_type": "code",
   "execution_count": 22,
   "outputs": [
    {
     "data": {
      "text/plain": "artwork_id          False\ntitle               False\nartist_id           False\nname_x              False\ndate                False\nacquisition_date    False\ncredit              False\nclassification      False\nweight_kg           False\nnationality         False\ngender              False\nbirth_year          False\ndeath_year          False\nacquisition_year    False\nage_at_acq          False\nage_at_death        False\ndtype: bool"
     },
     "execution_count": 22,
     "metadata": {},
     "output_type": "execute_result"
    }
   ],
   "source": [
    "# let's clean up some of the other nan columns\n",
    "select['name_x'] = select['name_x'].fillna('Artist Unnamed')\n",
    "select['title'] = select['title'].fillna('Art Unnamed')\n",
    "select['artist_id'] = select['artist_id'].fillna('0')\n",
    "select['date'] = select['date'].fillna('0')\n",
    "select['acquisition_date'] = select['acquisition_date'].fillna('0')\n",
    "select['credit'] = select['credit'].fillna('0')\n",
    "select['weight_kg'] = select['weight_kg'].fillna('0')\n",
    "select['nationality'] = select['nationality'].fillna('Unknown')\n",
    "select.isna().any()"
   ],
   "metadata": {
    "collapsed": false,
    "pycharm": {
     "name": "#%%\n"
    }
   }
  },
  {
   "cell_type": "code",
   "execution_count": 23,
   "outputs": [
    {
     "name": "stdout",
     "output_type": "stream",
     "text": [
      "<class 'pandas.core.frame.DataFrame'>\n",
      "Int64Index: 130261 entries, 0 to 130261\n",
      "Data columns (total 16 columns):\n",
      " #   Column            Non-Null Count   Dtype \n",
      "---  ------            --------------   ----- \n",
      " 0   artwork_id        130261 non-null  object\n",
      " 1   title             130261 non-null  object\n",
      " 2   artist_id         130261 non-null  object\n",
      " 3   name_x            130261 non-null  object\n",
      " 4   date              130261 non-null  object\n",
      " 5   acquisition_date  130261 non-null  object\n",
      " 6   credit            130261 non-null  object\n",
      " 7   classification    130261 non-null  object\n",
      " 8   weight_kg         130261 non-null  object\n",
      " 9   nationality       130261 non-null  object\n",
      " 10  gender            130261 non-null  object\n",
      " 11  birth_year        130261 non-null  int32 \n",
      " 12  death_year        130261 non-null  int32 \n",
      " 13  acquisition_year  130261 non-null  int32 \n",
      " 14  age_at_acq        130261 non-null  int32 \n",
      " 15  age_at_death      130261 non-null  int32 \n",
      "dtypes: int32(5), object(11)\n",
      "memory usage: 18.4+ MB\n"
     ]
    }
   ],
   "source": [
    "select.info()"
   ],
   "metadata": {
    "collapsed": false,
    "pycharm": {
     "name": "#%%\n"
    }
   }
  },
  {
   "cell_type": "code",
   "execution_count": 24,
   "outputs": [
    {
     "name": "stdout",
     "output_type": "stream",
     "text": [
      "<class 'pandas.core.frame.DataFrame'>\n",
      "Int64Index: 130261 entries, 0 to 130261\n",
      "Data columns (total 16 columns):\n",
      " #   Column            Non-Null Count   Dtype         \n",
      "---  ------            --------------   -----         \n",
      " 0   artwork_id        130261 non-null  object        \n",
      " 1   title             130261 non-null  object        \n",
      " 2   artist_id         130261 non-null  object        \n",
      " 3   name_x            130261 non-null  object        \n",
      " 4   date              130261 non-null  object        \n",
      " 5   acquisition_date  124798 non-null  datetime64[ns]\n",
      " 6   credit            130261 non-null  object        \n",
      " 7   classification    130261 non-null  object        \n",
      " 8   weight_kg         130261 non-null  int32         \n",
      " 9   nationality       130261 non-null  object        \n",
      " 10  gender            130261 non-null  object        \n",
      " 11  birth_year        130261 non-null  int32         \n",
      " 12  death_year        130261 non-null  int32         \n",
      " 13  acquisition_year  130261 non-null  int32         \n",
      " 14  age_at_acq        130261 non-null  int32         \n",
      " 15  age_at_death      130261 non-null  int32         \n",
      "dtypes: datetime64[ns](1), int32(6), object(9)\n",
      "memory usage: 17.9+ MB\n"
     ]
    }
   ],
   "source": [
    "select.head(25)\n",
    "select['acquisition_date'] = pd.to_datetime((select['acquisition_date']), errors='coerce')\n",
    "select['weight_kg'] = select['weight_kg'].astype(float).round(0).astype(int)\n",
    "select.info()"
   ],
   "metadata": {
    "collapsed": false,
    "pycharm": {
     "name": "#%%\n"
    }
   }
  },
  {
   "cell_type": "code",
   "execution_count": 25,
   "outputs": [
    {
     "data": {
      "text/plain": "  artwork_id                title artist_id          name_x  date  \\\n0      33599  Study For Head Bath         1  Robert Arneson  1977   \n1      64139         General Nuke         1  Robert Arneson  1986   \n2      61629           Bas-Relief         2  Doroteo Arnaiz     0   \n3      45972     Honey Under Sink         3     Bill Arnold  1971   \n4      45997    Honey Under Chair         3     Bill Arnold  1971   \n\n  acquisition_date                                       credit  \\\n0       1981-04-28  Gift Of The Friends Of Contemporary Drawing   \n1       1997-05-28                       Gift Of Landfall Press   \n2       1965-03-09                           Gift Of The Artist   \n3       1972-03-07                                     Purchase   \n4       1972-03-07                                     Purchase   \n\n  classification  weight_kg nationality gender  birth_year  death_year  \\\n0        Drawing          0    American   Male        1930        1992   \n1          Print          0    American   Male        1930        1992   \n2          Print          0     Spanish   Male        1936           0   \n3     Photograph          0    American   Male        1941           0   \n4     Photograph          0    American   Male        1941           0   \n\n   acquisition_year  age_at_acq  age_at_death  \n0              1981          51            62  \n1              1997          62            62  \n2              1965          29             0  \n3              1972          31             0  \n4              1972          31             0  ",
      "text/html": "<div>\n<style scoped>\n    .dataframe tbody tr th:only-of-type {\n        vertical-align: middle;\n    }\n\n    .dataframe tbody tr th {\n        vertical-align: top;\n    }\n\n    .dataframe thead th {\n        text-align: right;\n    }\n</style>\n<table border=\"1\" class=\"dataframe\">\n  <thead>\n    <tr style=\"text-align: right;\">\n      <th></th>\n      <th>artwork_id</th>\n      <th>title</th>\n      <th>artist_id</th>\n      <th>name_x</th>\n      <th>date</th>\n      <th>acquisition_date</th>\n      <th>credit</th>\n      <th>classification</th>\n      <th>weight_kg</th>\n      <th>nationality</th>\n      <th>gender</th>\n      <th>birth_year</th>\n      <th>death_year</th>\n      <th>acquisition_year</th>\n      <th>age_at_acq</th>\n      <th>age_at_death</th>\n    </tr>\n  </thead>\n  <tbody>\n    <tr>\n      <th>0</th>\n      <td>33599</td>\n      <td>Study For Head Bath</td>\n      <td>1</td>\n      <td>Robert Arneson</td>\n      <td>1977</td>\n      <td>1981-04-28</td>\n      <td>Gift Of The Friends Of Contemporary Drawing</td>\n      <td>Drawing</td>\n      <td>0</td>\n      <td>American</td>\n      <td>Male</td>\n      <td>1930</td>\n      <td>1992</td>\n      <td>1981</td>\n      <td>51</td>\n      <td>62</td>\n    </tr>\n    <tr>\n      <th>1</th>\n      <td>64139</td>\n      <td>General Nuke</td>\n      <td>1</td>\n      <td>Robert Arneson</td>\n      <td>1986</td>\n      <td>1997-05-28</td>\n      <td>Gift Of Landfall Press</td>\n      <td>Print</td>\n      <td>0</td>\n      <td>American</td>\n      <td>Male</td>\n      <td>1930</td>\n      <td>1992</td>\n      <td>1997</td>\n      <td>62</td>\n      <td>62</td>\n    </tr>\n    <tr>\n      <th>2</th>\n      <td>61629</td>\n      <td>Bas-Relief</td>\n      <td>2</td>\n      <td>Doroteo Arnaiz</td>\n      <td>0</td>\n      <td>1965-03-09</td>\n      <td>Gift Of The Artist</td>\n      <td>Print</td>\n      <td>0</td>\n      <td>Spanish</td>\n      <td>Male</td>\n      <td>1936</td>\n      <td>0</td>\n      <td>1965</td>\n      <td>29</td>\n      <td>0</td>\n    </tr>\n    <tr>\n      <th>3</th>\n      <td>45972</td>\n      <td>Honey Under Sink</td>\n      <td>3</td>\n      <td>Bill Arnold</td>\n      <td>1971</td>\n      <td>1972-03-07</td>\n      <td>Purchase</td>\n      <td>Photograph</td>\n      <td>0</td>\n      <td>American</td>\n      <td>Male</td>\n      <td>1941</td>\n      <td>0</td>\n      <td>1972</td>\n      <td>31</td>\n      <td>0</td>\n    </tr>\n    <tr>\n      <th>4</th>\n      <td>45997</td>\n      <td>Honey Under Chair</td>\n      <td>3</td>\n      <td>Bill Arnold</td>\n      <td>1971</td>\n      <td>1972-03-07</td>\n      <td>Purchase</td>\n      <td>Photograph</td>\n      <td>0</td>\n      <td>American</td>\n      <td>Male</td>\n      <td>1941</td>\n      <td>0</td>\n      <td>1972</td>\n      <td>31</td>\n      <td>0</td>\n    </tr>\n  </tbody>\n</table>\n</div>"
     },
     "execution_count": 25,
     "metadata": {},
     "output_type": "execute_result"
    }
   ],
   "source": [
    "select.head()\n"
   ],
   "metadata": {
    "collapsed": false,
    "pycharm": {
     "name": "#%%\n"
    }
   }
  },
  {
   "cell_type": "code",
   "execution_count": 28,
   "outputs": [],
   "source": [
    "# the data is now cleaned and ready to be EDA'd\n",
    "# let's export into a new file, so we can start a fresh EDA notebook\n",
    "\n",
    "select.to_csv('cleaned_moma.csv', index=False)"
   ],
   "metadata": {
    "collapsed": false,
    "pycharm": {
     "name": "#%%\n"
    }
   }
  }
 ],
 "metadata": {
  "kernelspec": {
   "display_name": "Python 3",
   "language": "python",
   "name": "python3"
  },
  "language_info": {
   "codemirror_mode": {
    "name": "ipython",
    "version": 2
   },
   "file_extension": ".py",
   "mimetype": "text/x-python",
   "name": "python",
   "nbconvert_exporter": "python",
   "pygments_lexer": "ipython2",
   "version": "2.7.6"
  },
  "pycharm": {
   "stem_cell": {
    "cell_type": "raw",
    "source": [
     "# Analysis for the Museum of Modern Art\n",
     "\n",
     "The Museum of Modern Art (MoMA) acquired its first artworks in 1929, the year it was established. Today, the Museum’s\n",
     "evolving collection contains almost 200,000 works from around the world spanning the last 150 years. The collection\n",
     "includes an ever-expanding range of visual expression, including painting, sculpture, printmaking, drawing, photography,\n",
     "architecture, design, film, and media and performance art.\n",
     "The data, uploaded 2/15/2017, includes the title, artist, date, and medium of every artwork in the MoMA collection."
    ],
    "metadata": {
     "collapsed": false
    }
   }
  }
 },
 "nbformat": 4,
 "nbformat_minor": 0
}