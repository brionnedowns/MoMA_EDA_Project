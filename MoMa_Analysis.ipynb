{
 "cells": [
  {
   "cell_type": "markdown",
   "metadata": {
    "id": "pkNjvSY13E-9"
   },
   "source": [
    "# Analysis for the Museum of Modern Art\n",
    "\n",
    "The Museum of Modern Art (MoMA) acquired its first artworks in 1929, the year it was established. Today, the Museum’s evolving collection contains almost 200,000 works from around the world spanning the last 150 years. The collection includes an ever-expanding range of visual expression, including painting, sculpture, printmaking, drawing, photography, architecture, design, film, and media and performance art. \n",
    "\n",
    "The data, uploaded 2/15/2017, includes the title, artist, date, and medium of every artwork in the MoMA collection."
   ]
  },
  {
   "cell_type": "code",
   "execution_count": null,
   "metadata": {
    "id": "NMSTnXJ13E_C"
   },
   "outputs": [],
   "source": [
    "import pandas as pd\n",
    "import numpy as np\n",
    "import matplotlib.pyplot as plt\n",
    "\n",
    "import sys\n",
    "# to display all columns of a dataframe\n",
    "pd.set_option('display.max_columns', 42) # use this to see all the columns in a df display\n",
    "np.set_printoptions(threshold=sys.maxsize) # use this to see full arrays without truncation"
   ]
  },
  {
   "cell_type": "code",
   "execution_count": null,
   "metadata": {
    "id": "WZk92Bzo3E_J"
   },
   "outputs": [],
   "source": [
    "artists = pd.read_csv('artists.csv', dtype='unicode')\n",
    "artworks = pd.read_csv('artworks.csv', dtype='unicode') "
   ]
  },
  {
   "cell_type": "code",
   "execution_count": null,
   "metadata": {
    "id": "m5YTyBx13E_J",
    "outputId": "b524421b-e1cd-4be7-a80b-939c7747737a"
   },
   "outputs": [
    {
     "data": {
      "text/html": [
       "<div>\n",
       "<style scoped>\n",
       "    .dataframe tbody tr th:only-of-type {\n",
       "        vertical-align: middle;\n",
       "    }\n",
       "\n",
       "    .dataframe tbody tr th {\n",
       "        vertical-align: top;\n",
       "    }\n",
       "\n",
       "    .dataframe thead th {\n",
       "        text-align: right;\n",
       "    }\n",
       "</style>\n",
       "<table border=\"1\" class=\"dataframe\">\n",
       "  <thead>\n",
       "    <tr style=\"text-align: right;\">\n",
       "      <th></th>\n",
       "      <th>Artist ID</th>\n",
       "      <th>Name</th>\n",
       "      <th>Nationality</th>\n",
       "      <th>Gender</th>\n",
       "      <th>Birth Year</th>\n",
       "      <th>Death Year</th>\n",
       "    </tr>\n",
       "  </thead>\n",
       "  <tbody>\n",
       "    <tr>\n",
       "      <th>0</th>\n",
       "      <td>1</td>\n",
       "      <td>Robert Arneson</td>\n",
       "      <td>American</td>\n",
       "      <td>Male</td>\n",
       "      <td>1930</td>\n",
       "      <td>1992</td>\n",
       "    </tr>\n",
       "    <tr>\n",
       "      <th>1</th>\n",
       "      <td>2</td>\n",
       "      <td>Doroteo Arnaiz</td>\n",
       "      <td>Spanish</td>\n",
       "      <td>Male</td>\n",
       "      <td>1936</td>\n",
       "      <td>NaN</td>\n",
       "    </tr>\n",
       "    <tr>\n",
       "      <th>2</th>\n",
       "      <td>3</td>\n",
       "      <td>Bill Arnold</td>\n",
       "      <td>American</td>\n",
       "      <td>Male</td>\n",
       "      <td>1941</td>\n",
       "      <td>NaN</td>\n",
       "    </tr>\n",
       "    <tr>\n",
       "      <th>3</th>\n",
       "      <td>4</td>\n",
       "      <td>Charles Arnoldi</td>\n",
       "      <td>American</td>\n",
       "      <td>Male</td>\n",
       "      <td>1946</td>\n",
       "      <td>NaN</td>\n",
       "    </tr>\n",
       "    <tr>\n",
       "      <th>4</th>\n",
       "      <td>5</td>\n",
       "      <td>Per Arnoldi</td>\n",
       "      <td>Danish</td>\n",
       "      <td>Male</td>\n",
       "      <td>1941</td>\n",
       "      <td>NaN</td>\n",
       "    </tr>\n",
       "  </tbody>\n",
       "</table>\n",
       "</div>"
      ],
      "text/plain": [
       "  Artist ID             Name Nationality Gender Birth Year Death Year\n",
       "0         1   Robert Arneson    American   Male       1930       1992\n",
       "1         2   Doroteo Arnaiz     Spanish   Male       1936        NaN\n",
       "2         3      Bill Arnold    American   Male       1941        NaN\n",
       "3         4  Charles Arnoldi    American   Male       1946        NaN\n",
       "4         5      Per Arnoldi      Danish   Male       1941        NaN"
      ]
     },
     "execution_count": 3,
     "metadata": {
      "tags": []
     },
     "output_type": "execute_result"
    }
   ],
   "source": [
    "artists.head()"
   ]
  },
  {
   "cell_type": "code",
   "execution_count": null,
   "metadata": {
    "id": "BMis08Ca3E_M",
    "outputId": "1cff6b0e-c8a9-4548-d33a-4de57c7fdf78"
   },
   "outputs": [
    {
     "data": {
      "text/html": [
       "<div>\n",
       "<style scoped>\n",
       "    .dataframe tbody tr th:only-of-type {\n",
       "        vertical-align: middle;\n",
       "    }\n",
       "\n",
       "    .dataframe tbody tr th {\n",
       "        vertical-align: top;\n",
       "    }\n",
       "\n",
       "    .dataframe thead th {\n",
       "        text-align: right;\n",
       "    }\n",
       "</style>\n",
       "<table border=\"1\" class=\"dataframe\">\n",
       "  <thead>\n",
       "    <tr style=\"text-align: right;\">\n",
       "      <th></th>\n",
       "      <th>Artwork ID</th>\n",
       "      <th>Title</th>\n",
       "      <th>Artist ID</th>\n",
       "      <th>Name</th>\n",
       "      <th>Date</th>\n",
       "      <th>Medium</th>\n",
       "      <th>Dimensions</th>\n",
       "      <th>Acquisition Date</th>\n",
       "      <th>Credit</th>\n",
       "      <th>Catalogue</th>\n",
       "      <th>Department</th>\n",
       "      <th>Classification</th>\n",
       "      <th>Object Number</th>\n",
       "      <th>Diameter (cm)</th>\n",
       "      <th>Circumference (cm)</th>\n",
       "      <th>Height (cm)</th>\n",
       "      <th>Length (cm)</th>\n",
       "      <th>Width (cm)</th>\n",
       "      <th>Depth (cm)</th>\n",
       "      <th>Weight (kg)</th>\n",
       "      <th>Duration (s)</th>\n",
       "    </tr>\n",
       "  </thead>\n",
       "  <tbody>\n",
       "    <tr>\n",
       "      <th>0</th>\n",
       "      <td>2</td>\n",
       "      <td>Ferdinandsbrücke Project, Vienna, Austria, Ele...</td>\n",
       "      <td>6210</td>\n",
       "      <td>Otto Wagner</td>\n",
       "      <td>1896</td>\n",
       "      <td>Ink and cut-and-pasted painted pages on paper</td>\n",
       "      <td>19 1/8 x 66 1/2\" (48.6 x 168.9 cm)</td>\n",
       "      <td>1996-04-09</td>\n",
       "      <td>Fractional and promised gift of Jo Carole and ...</td>\n",
       "      <td>Y</td>\n",
       "      <td>Architecture &amp; Design</td>\n",
       "      <td>Architecture</td>\n",
       "      <td>885.1996</td>\n",
       "      <td>NaN</td>\n",
       "      <td>NaN</td>\n",
       "      <td>48.6</td>\n",
       "      <td>NaN</td>\n",
       "      <td>168.9</td>\n",
       "      <td>NaN</td>\n",
       "      <td>NaN</td>\n",
       "      <td>NaN</td>\n",
       "    </tr>\n",
       "    <tr>\n",
       "      <th>1</th>\n",
       "      <td>3</td>\n",
       "      <td>City of Music, National Superior Conservatory ...</td>\n",
       "      <td>7470</td>\n",
       "      <td>Christian de Portzamparc</td>\n",
       "      <td>1987</td>\n",
       "      <td>Paint and colored pencil on print</td>\n",
       "      <td>16 x 11 3/4\" (40.6 x 29.8 cm)</td>\n",
       "      <td>1995-01-17</td>\n",
       "      <td>Gift of the architect in honor of Lily Auchinc...</td>\n",
       "      <td>Y</td>\n",
       "      <td>Architecture &amp; Design</td>\n",
       "      <td>Architecture</td>\n",
       "      <td>1.1995</td>\n",
       "      <td>NaN</td>\n",
       "      <td>NaN</td>\n",
       "      <td>40.6401</td>\n",
       "      <td>NaN</td>\n",
       "      <td>29.8451</td>\n",
       "      <td>NaN</td>\n",
       "      <td>NaN</td>\n",
       "      <td>NaN</td>\n",
       "    </tr>\n",
       "    <tr>\n",
       "      <th>2</th>\n",
       "      <td>4</td>\n",
       "      <td>Villa near Vienna Project, Outside Vienna, Aus...</td>\n",
       "      <td>7605</td>\n",
       "      <td>Emil Hoppe</td>\n",
       "      <td>1903</td>\n",
       "      <td>Graphite, pen, color pencil, ink, and gouache ...</td>\n",
       "      <td>13 1/2 x 12 1/2\" (34.3 x 31.8 cm)</td>\n",
       "      <td>1997-01-15</td>\n",
       "      <td>Gift of Jo Carole and Ronald S. Lauder</td>\n",
       "      <td>Y</td>\n",
       "      <td>Architecture &amp; Design</td>\n",
       "      <td>Architecture</td>\n",
       "      <td>1.1997</td>\n",
       "      <td>NaN</td>\n",
       "      <td>NaN</td>\n",
       "      <td>34.3</td>\n",
       "      <td>NaN</td>\n",
       "      <td>31.8</td>\n",
       "      <td>NaN</td>\n",
       "      <td>NaN</td>\n",
       "      <td>NaN</td>\n",
       "    </tr>\n",
       "    <tr>\n",
       "      <th>3</th>\n",
       "      <td>5</td>\n",
       "      <td>The Manhattan Transcripts Project, New York, N...</td>\n",
       "      <td>7056</td>\n",
       "      <td>Bernard Tschumi</td>\n",
       "      <td>1980</td>\n",
       "      <td>Photographic reproduction with colored synthet...</td>\n",
       "      <td>20 x 20\" (50.8 x 50.8 cm)</td>\n",
       "      <td>1995-01-17</td>\n",
       "      <td>Purchase and partial gift of the architect in ...</td>\n",
       "      <td>Y</td>\n",
       "      <td>Architecture &amp; Design</td>\n",
       "      <td>Architecture</td>\n",
       "      <td>2.1995</td>\n",
       "      <td>NaN</td>\n",
       "      <td>NaN</td>\n",
       "      <td>50.8</td>\n",
       "      <td>NaN</td>\n",
       "      <td>50.8</td>\n",
       "      <td>NaN</td>\n",
       "      <td>NaN</td>\n",
       "      <td>NaN</td>\n",
       "    </tr>\n",
       "    <tr>\n",
       "      <th>4</th>\n",
       "      <td>6</td>\n",
       "      <td>Villa, project, outside Vienna, Austria, Exter...</td>\n",
       "      <td>7605</td>\n",
       "      <td>Emil Hoppe</td>\n",
       "      <td>1903</td>\n",
       "      <td>Graphite, color pencil, ink, and gouache on tr...</td>\n",
       "      <td>15 1/8 x 7 1/2\" (38.4 x 19.1 cm)</td>\n",
       "      <td>1997-01-15</td>\n",
       "      <td>Gift of Jo Carole and Ronald S. Lauder</td>\n",
       "      <td>Y</td>\n",
       "      <td>Architecture &amp; Design</td>\n",
       "      <td>Architecture</td>\n",
       "      <td>2.1997</td>\n",
       "      <td>NaN</td>\n",
       "      <td>NaN</td>\n",
       "      <td>38.4</td>\n",
       "      <td>NaN</td>\n",
       "      <td>19.1</td>\n",
       "      <td>NaN</td>\n",
       "      <td>NaN</td>\n",
       "      <td>NaN</td>\n",
       "    </tr>\n",
       "  </tbody>\n",
       "</table>\n",
       "</div>"
      ],
      "text/plain": [
       "  Artwork ID                                              Title Artist ID  \\\n",
       "0          2  Ferdinandsbrücke Project, Vienna, Austria, Ele...      6210   \n",
       "1          3  City of Music, National Superior Conservatory ...      7470   \n",
       "2          4  Villa near Vienna Project, Outside Vienna, Aus...      7605   \n",
       "3          5  The Manhattan Transcripts Project, New York, N...      7056   \n",
       "4          6  Villa, project, outside Vienna, Austria, Exter...      7605   \n",
       "\n",
       "                       Name  Date  \\\n",
       "0               Otto Wagner  1896   \n",
       "1  Christian de Portzamparc  1987   \n",
       "2                Emil Hoppe  1903   \n",
       "3           Bernard Tschumi  1980   \n",
       "4                Emil Hoppe  1903   \n",
       "\n",
       "                                              Medium  \\\n",
       "0      Ink and cut-and-pasted painted pages on paper   \n",
       "1                  Paint and colored pencil on print   \n",
       "2  Graphite, pen, color pencil, ink, and gouache ...   \n",
       "3  Photographic reproduction with colored synthet...   \n",
       "4  Graphite, color pencil, ink, and gouache on tr...   \n",
       "\n",
       "                           Dimensions Acquisition Date  \\\n",
       "0  19 1/8 x 66 1/2\" (48.6 x 168.9 cm)       1996-04-09   \n",
       "1       16 x 11 3/4\" (40.6 x 29.8 cm)       1995-01-17   \n",
       "2   13 1/2 x 12 1/2\" (34.3 x 31.8 cm)       1997-01-15   \n",
       "3           20 x 20\" (50.8 x 50.8 cm)       1995-01-17   \n",
       "4    15 1/8 x 7 1/2\" (38.4 x 19.1 cm)       1997-01-15   \n",
       "\n",
       "                                              Credit Catalogue  \\\n",
       "0  Fractional and promised gift of Jo Carole and ...         Y   \n",
       "1  Gift of the architect in honor of Lily Auchinc...         Y   \n",
       "2             Gift of Jo Carole and Ronald S. Lauder         Y   \n",
       "3  Purchase and partial gift of the architect in ...         Y   \n",
       "4             Gift of Jo Carole and Ronald S. Lauder         Y   \n",
       "\n",
       "              Department Classification Object Number Diameter (cm)  \\\n",
       "0  Architecture & Design   Architecture      885.1996           NaN   \n",
       "1  Architecture & Design   Architecture        1.1995           NaN   \n",
       "2  Architecture & Design   Architecture        1.1997           NaN   \n",
       "3  Architecture & Design   Architecture        2.1995           NaN   \n",
       "4  Architecture & Design   Architecture        2.1997           NaN   \n",
       "\n",
       "  Circumference (cm) Height (cm) Length (cm) Width (cm) Depth (cm)  \\\n",
       "0                NaN        48.6         NaN      168.9        NaN   \n",
       "1                NaN     40.6401         NaN    29.8451        NaN   \n",
       "2                NaN        34.3         NaN       31.8        NaN   \n",
       "3                NaN        50.8         NaN       50.8        NaN   \n",
       "4                NaN        38.4         NaN       19.1        NaN   \n",
       "\n",
       "  Weight (kg) Duration (s)  \n",
       "0         NaN          NaN  \n",
       "1         NaN          NaN  \n",
       "2         NaN          NaN  \n",
       "3         NaN          NaN  \n",
       "4         NaN          NaN  "
      ]
     },
     "execution_count": 4,
     "metadata": {
      "tags": []
     },
     "output_type": "execute_result"
    }
   ],
   "source": [
    "artworks.head()"
   ]
  },
  {
   "cell_type": "code",
   "execution_count": null,
   "metadata": {
    "id": "VyBnkcVE3E_N",
    "outputId": "9c161872-948c-465e-d4ee-b0fde7158bd0"
   },
   "outputs": [
    {
     "data": {
      "text/plain": [
       "array(['Male', 'Female', nan, 'male'], dtype=object)"
      ]
     },
     "execution_count": 5,
     "metadata": {
      "tags": []
     },
     "output_type": "execute_result"
    }
   ],
   "source": [
    "# I ran a frequency on gender to understand the types of genders reported\n",
    "artists.Gender.unique() "
   ]
  },
  {
   "cell_type": "code",
   "execution_count": null,
   "metadata": {
    "id": "7JmFT9St3E_O",
    "outputId": "602a983b-c356-4bcd-c008-d668d4323982"
   },
   "outputs": [
    {
     "data": {
      "text/plain": [
       "array(['Male', 'Female', 'Gender Unknown'], dtype=object)"
      ]
     },
     "execution_count": 6,
     "metadata": {
      "tags": []
     },
     "output_type": "execute_result"
    }
   ],
   "source": [
    "# this uncovered a casing issue which we will fix below\n",
    "artists['Gender']= artists['Gender'].str.title() \n",
    "\n",
    "# we need to replace those NaNs with a categorical identifier like \"Gender Unknown\"\n",
    "artists['Gender'] = artists['Gender'].fillna('Gender Unknown')\n",
    "\n",
    "# Let's check the list now\n",
    "artists.Gender.unique()"
   ]
  },
  {
   "cell_type": "code",
   "execution_count": null,
   "metadata": {
    "id": "xn-JqvQX3E_P",
    "outputId": "80a7d38a-0d9e-4d72-de19-374565491ad6"
   },
   "outputs": [
    {
     "data": {
      "text/plain": [
       "Artwork ID            object\n",
       "Title                 object\n",
       "Artist ID             object\n",
       "Name                  object\n",
       "Date                  object\n",
       "Medium                object\n",
       "Dimensions            object\n",
       "Acquisition Date      object\n",
       "Credit                object\n",
       "Catalogue             object\n",
       "Department            object\n",
       "Classification        object\n",
       "Object Number         object\n",
       "Diameter (cm)         object\n",
       "Circumference (cm)    object\n",
       "Height (cm)           object\n",
       "Length (cm)           object\n",
       "Width (cm)            object\n",
       "Depth (cm)            object\n",
       "Weight (kg)           object\n",
       "Duration (s)          object\n",
       "dtype: object"
      ]
     },
     "execution_count": 7,
     "metadata": {
      "tags": []
     },
     "output_type": "execute_result"
    }
   ],
   "source": [
    "# we are in a good place to merge the dfs, but we need to check datatypes to make sure the artist id is the same on both sides\n",
    "artists.dtypes\n",
    "artworks.dtypes"
   ]
  },
  {
   "cell_type": "code",
   "execution_count": null,
   "metadata": {
    "id": "9hkG9gnj3E_Q"
   },
   "outputs": [],
   "source": [
    "# fix the formatting of the column headers \n",
    "artists.columns = artists.columns.str.replace(' ','_').str.lower()\n",
    "artworks.columns = artworks.columns.str.replace(' ','_').str.lower().str.replace('(','').str.replace(')','')"
   ]
  },
  {
   "cell_type": "code",
   "execution_count": null,
   "metadata": {
    "id": "TfaSPX-M3E_Q",
    "outputId": "3432c649-6002-4002-92cf-26b524cf162e"
   },
   "outputs": [
    {
     "data": {
      "text/html": [
       "<div>\n",
       "<style scoped>\n",
       "    .dataframe tbody tr th:only-of-type {\n",
       "        vertical-align: middle;\n",
       "    }\n",
       "\n",
       "    .dataframe tbody tr th {\n",
       "        vertical-align: top;\n",
       "    }\n",
       "\n",
       "    .dataframe thead th {\n",
       "        text-align: right;\n",
       "    }\n",
       "</style>\n",
       "<table border=\"1\" class=\"dataframe\">\n",
       "  <thead>\n",
       "    <tr style=\"text-align: right;\">\n",
       "      <th></th>\n",
       "      <th>artwork_id</th>\n",
       "      <th>title</th>\n",
       "      <th>artist_id</th>\n",
       "      <th>name_x</th>\n",
       "      <th>date</th>\n",
       "      <th>medium</th>\n",
       "      <th>dimensions</th>\n",
       "      <th>acquisition_date</th>\n",
       "      <th>credit</th>\n",
       "      <th>catalogue</th>\n",
       "      <th>department</th>\n",
       "      <th>classification</th>\n",
       "      <th>object_number</th>\n",
       "      <th>diameter_cm</th>\n",
       "      <th>circumference_cm</th>\n",
       "      <th>height_cm</th>\n",
       "      <th>length_cm</th>\n",
       "      <th>width_cm</th>\n",
       "      <th>depth_cm</th>\n",
       "      <th>weight_kg</th>\n",
       "      <th>duration_s</th>\n",
       "      <th>name_y</th>\n",
       "      <th>nationality</th>\n",
       "      <th>gender</th>\n",
       "      <th>birth_year</th>\n",
       "      <th>death_year</th>\n",
       "    </tr>\n",
       "  </thead>\n",
       "  <tbody>\n",
       "    <tr>\n",
       "      <th>0</th>\n",
       "      <td>2</td>\n",
       "      <td>Ferdinandsbrücke Project, Vienna, Austria, Ele...</td>\n",
       "      <td>6210</td>\n",
       "      <td>Otto Wagner</td>\n",
       "      <td>1896</td>\n",
       "      <td>Ink and cut-and-pasted painted pages on paper</td>\n",
       "      <td>19 1/8 x 66 1/2\" (48.6 x 168.9 cm)</td>\n",
       "      <td>1996-04-09</td>\n",
       "      <td>Fractional and promised gift of Jo Carole and ...</td>\n",
       "      <td>Y</td>\n",
       "      <td>Architecture &amp; Design</td>\n",
       "      <td>Architecture</td>\n",
       "      <td>885.1996</td>\n",
       "      <td>NaN</td>\n",
       "      <td>NaN</td>\n",
       "      <td>48.6</td>\n",
       "      <td>NaN</td>\n",
       "      <td>168.9</td>\n",
       "      <td>NaN</td>\n",
       "      <td>NaN</td>\n",
       "      <td>NaN</td>\n",
       "      <td>Otto Wagner</td>\n",
       "      <td>Austrian</td>\n",
       "      <td>Male</td>\n",
       "      <td>1841</td>\n",
       "      <td>1918</td>\n",
       "    </tr>\n",
       "    <tr>\n",
       "      <th>1</th>\n",
       "      <td>4023</td>\n",
       "      <td>Armchair</td>\n",
       "      <td>6210</td>\n",
       "      <td>Otto Wagner</td>\n",
       "      <td>1902</td>\n",
       "      <td>Beech wood and aluminum</td>\n",
       "      <td>30 7/8 x 22 1/4 x 20 1/4\" (78.5 x 56.5 x 51.5 ...</td>\n",
       "      <td>1978-09-27</td>\n",
       "      <td>Estée and Joseph Lauder Design Fund</td>\n",
       "      <td>Y</td>\n",
       "      <td>Architecture &amp; Design</td>\n",
       "      <td>Design</td>\n",
       "      <td>479.1978</td>\n",
       "      <td>NaN</td>\n",
       "      <td>NaN</td>\n",
       "      <td>78.5</td>\n",
       "      <td>NaN</td>\n",
       "      <td>56.5</td>\n",
       "      <td>51.5</td>\n",
       "      <td>NaN</td>\n",
       "      <td>NaN</td>\n",
       "      <td>Otto Wagner</td>\n",
       "      <td>Austrian</td>\n",
       "      <td>Male</td>\n",
       "      <td>1841</td>\n",
       "      <td>1918</td>\n",
       "    </tr>\n",
       "    <tr>\n",
       "      <th>2</th>\n",
       "      <td>4026</td>\n",
       "      <td>Stool</td>\n",
       "      <td>6210</td>\n",
       "      <td>Otto Wagner</td>\n",
       "      <td>1904</td>\n",
       "      <td>Bent beech wood, molded plywood, and aluminum</td>\n",
       "      <td>18 1/2 x 16 x 16\" (47 x 40.6 x 40.6 cm)</td>\n",
       "      <td>1978-09-27</td>\n",
       "      <td>Estée and Joseph Lauder Design Fund</td>\n",
       "      <td>Y</td>\n",
       "      <td>Architecture &amp; Design</td>\n",
       "      <td>Design</td>\n",
       "      <td>480.1978</td>\n",
       "      <td>NaN</td>\n",
       "      <td>NaN</td>\n",
       "      <td>46.9901</td>\n",
       "      <td>NaN</td>\n",
       "      <td>40.6401</td>\n",
       "      <td>40.6401</td>\n",
       "      <td>NaN</td>\n",
       "      <td>NaN</td>\n",
       "      <td>Otto Wagner</td>\n",
       "      <td>Austrian</td>\n",
       "      <td>Male</td>\n",
       "      <td>1841</td>\n",
       "      <td>1918</td>\n",
       "    </tr>\n",
       "    <tr>\n",
       "      <th>3</th>\n",
       "      <td>82125</td>\n",
       "      <td>Railing</td>\n",
       "      <td>6210</td>\n",
       "      <td>Otto Wagner</td>\n",
       "      <td>1899</td>\n",
       "      <td>Painted cast-iron</td>\n",
       "      <td>28 1/4 x 46 1/2 x 3\" (72.4 x 117.5 x 7.6 cm)</td>\n",
       "      <td>2001-05-11</td>\n",
       "      <td>Dorothy Cullman Purchase Fund</td>\n",
       "      <td>Y</td>\n",
       "      <td>Architecture &amp; Design</td>\n",
       "      <td>Architecture</td>\n",
       "      <td>1394.2001</td>\n",
       "      <td>NaN</td>\n",
       "      <td>NaN</td>\n",
       "      <td>72.4</td>\n",
       "      <td>NaN</td>\n",
       "      <td>117.5</td>\n",
       "      <td>7.6</td>\n",
       "      <td>NaN</td>\n",
       "      <td>NaN</td>\n",
       "      <td>Otto Wagner</td>\n",
       "      <td>Austrian</td>\n",
       "      <td>Male</td>\n",
       "      <td>1841</td>\n",
       "      <td>1918</td>\n",
       "    </tr>\n",
       "    <tr>\n",
       "      <th>4</th>\n",
       "      <td>3</td>\n",
       "      <td>City of Music, National Superior Conservatory ...</td>\n",
       "      <td>7470</td>\n",
       "      <td>Christian de Portzamparc</td>\n",
       "      <td>1987</td>\n",
       "      <td>Paint and colored pencil on print</td>\n",
       "      <td>16 x 11 3/4\" (40.6 x 29.8 cm)</td>\n",
       "      <td>1995-01-17</td>\n",
       "      <td>Gift of the architect in honor of Lily Auchinc...</td>\n",
       "      <td>Y</td>\n",
       "      <td>Architecture &amp; Design</td>\n",
       "      <td>Architecture</td>\n",
       "      <td>1.1995</td>\n",
       "      <td>NaN</td>\n",
       "      <td>NaN</td>\n",
       "      <td>40.6401</td>\n",
       "      <td>NaN</td>\n",
       "      <td>29.8451</td>\n",
       "      <td>NaN</td>\n",
       "      <td>NaN</td>\n",
       "      <td>NaN</td>\n",
       "      <td>Christian de Portzamparc</td>\n",
       "      <td>French</td>\n",
       "      <td>Male</td>\n",
       "      <td>1944</td>\n",
       "      <td>NaN</td>\n",
       "    </tr>\n",
       "  </tbody>\n",
       "</table>\n",
       "</div>"
      ],
      "text/plain": [
       "  artwork_id                                              title artist_id  \\\n",
       "0          2  Ferdinandsbrücke Project, Vienna, Austria, Ele...      6210   \n",
       "1       4023                                           Armchair      6210   \n",
       "2       4026                                              Stool      6210   \n",
       "3      82125                                            Railing      6210   \n",
       "4          3  City of Music, National Superior Conservatory ...      7470   \n",
       "\n",
       "                     name_x  date  \\\n",
       "0               Otto Wagner  1896   \n",
       "1               Otto Wagner  1902   \n",
       "2               Otto Wagner  1904   \n",
       "3               Otto Wagner  1899   \n",
       "4  Christian de Portzamparc  1987   \n",
       "\n",
       "                                          medium  \\\n",
       "0  Ink and cut-and-pasted painted pages on paper   \n",
       "1                        Beech wood and aluminum   \n",
       "2  Bent beech wood, molded plywood, and aluminum   \n",
       "3                              Painted cast-iron   \n",
       "4              Paint and colored pencil on print   \n",
       "\n",
       "                                          dimensions acquisition_date  \\\n",
       "0                 19 1/8 x 66 1/2\" (48.6 x 168.9 cm)       1996-04-09   \n",
       "1  30 7/8 x 22 1/4 x 20 1/4\" (78.5 x 56.5 x 51.5 ...       1978-09-27   \n",
       "2            18 1/2 x 16 x 16\" (47 x 40.6 x 40.6 cm)       1978-09-27   \n",
       "3       28 1/4 x 46 1/2 x 3\" (72.4 x 117.5 x 7.6 cm)       2001-05-11   \n",
       "4                      16 x 11 3/4\" (40.6 x 29.8 cm)       1995-01-17   \n",
       "\n",
       "                                              credit catalogue  \\\n",
       "0  Fractional and promised gift of Jo Carole and ...         Y   \n",
       "1                Estée and Joseph Lauder Design Fund         Y   \n",
       "2                Estée and Joseph Lauder Design Fund         Y   \n",
       "3                      Dorothy Cullman Purchase Fund         Y   \n",
       "4  Gift of the architect in honor of Lily Auchinc...         Y   \n",
       "\n",
       "              department classification object_number diameter_cm  \\\n",
       "0  Architecture & Design   Architecture      885.1996         NaN   \n",
       "1  Architecture & Design         Design      479.1978         NaN   \n",
       "2  Architecture & Design         Design      480.1978         NaN   \n",
       "3  Architecture & Design   Architecture     1394.2001         NaN   \n",
       "4  Architecture & Design   Architecture        1.1995         NaN   \n",
       "\n",
       "  circumference_cm height_cm length_cm width_cm depth_cm weight_kg duration_s  \\\n",
       "0              NaN      48.6       NaN    168.9      NaN       NaN        NaN   \n",
       "1              NaN      78.5       NaN     56.5     51.5       NaN        NaN   \n",
       "2              NaN   46.9901       NaN  40.6401  40.6401       NaN        NaN   \n",
       "3              NaN      72.4       NaN    117.5      7.6       NaN        NaN   \n",
       "4              NaN   40.6401       NaN  29.8451      NaN       NaN        NaN   \n",
       "\n",
       "                     name_y nationality gender birth_year death_year  \n",
       "0               Otto Wagner    Austrian   Male       1841       1918  \n",
       "1               Otto Wagner    Austrian   Male       1841       1918  \n",
       "2               Otto Wagner    Austrian   Male       1841       1918  \n",
       "3               Otto Wagner    Austrian   Male       1841       1918  \n",
       "4  Christian de Portzamparc      French   Male       1944        NaN  "
      ]
     },
     "execution_count": 9,
     "metadata": {
      "tags": []
     },
     "output_type": "execute_result"
    }
   ],
   "source": [
    "whole = pd.merge(artworks, artists, on='artist_id', how='outer')\n",
    "whole.head()"
   ]
  },
  {
   "cell_type": "code",
   "execution_count": null,
   "metadata": {
    "id": "4s9D7Xo13E_R",
    "outputId": "b909f23f-3d28-44ab-8490-4949ae8c60ba"
   },
   "outputs": [
    {
     "data": {
      "text/html": [
       "<div>\n",
       "<style scoped>\n",
       "    .dataframe tbody tr th:only-of-type {\n",
       "        vertical-align: middle;\n",
       "    }\n",
       "\n",
       "    .dataframe tbody tr th {\n",
       "        vertical-align: top;\n",
       "    }\n",
       "\n",
       "    .dataframe thead th {\n",
       "        text-align: right;\n",
       "    }\n",
       "</style>\n",
       "<table border=\"1\" class=\"dataframe\">\n",
       "  <thead>\n",
       "    <tr style=\"text-align: right;\">\n",
       "      <th></th>\n",
       "      <th>artwork_id</th>\n",
       "      <th>title</th>\n",
       "      <th>artist_id</th>\n",
       "      <th>name_x</th>\n",
       "      <th>date</th>\n",
       "      <th>acquisition_date</th>\n",
       "      <th>credit</th>\n",
       "      <th>classification</th>\n",
       "      <th>weight_kg</th>\n",
       "      <th>nationality</th>\n",
       "      <th>gender</th>\n",
       "      <th>birth_year</th>\n",
       "      <th>death_year</th>\n",
       "    </tr>\n",
       "  </thead>\n",
       "  <tbody>\n",
       "    <tr>\n",
       "      <th>0</th>\n",
       "      <td>2</td>\n",
       "      <td>Ferdinandsbrücke Project, Vienna, Austria, Ele...</td>\n",
       "      <td>6210</td>\n",
       "      <td>Otto Wagner</td>\n",
       "      <td>1896</td>\n",
       "      <td>1996-04-09</td>\n",
       "      <td>Fractional and promised gift of Jo Carole and ...</td>\n",
       "      <td>Architecture</td>\n",
       "      <td>NaN</td>\n",
       "      <td>Austrian</td>\n",
       "      <td>Male</td>\n",
       "      <td>1841</td>\n",
       "      <td>1918</td>\n",
       "    </tr>\n",
       "    <tr>\n",
       "      <th>1</th>\n",
       "      <td>4023</td>\n",
       "      <td>Armchair</td>\n",
       "      <td>6210</td>\n",
       "      <td>Otto Wagner</td>\n",
       "      <td>1902</td>\n",
       "      <td>1978-09-27</td>\n",
       "      <td>Estée and Joseph Lauder Design Fund</td>\n",
       "      <td>Design</td>\n",
       "      <td>NaN</td>\n",
       "      <td>Austrian</td>\n",
       "      <td>Male</td>\n",
       "      <td>1841</td>\n",
       "      <td>1918</td>\n",
       "    </tr>\n",
       "    <tr>\n",
       "      <th>2</th>\n",
       "      <td>4026</td>\n",
       "      <td>Stool</td>\n",
       "      <td>6210</td>\n",
       "      <td>Otto Wagner</td>\n",
       "      <td>1904</td>\n",
       "      <td>1978-09-27</td>\n",
       "      <td>Estée and Joseph Lauder Design Fund</td>\n",
       "      <td>Design</td>\n",
       "      <td>NaN</td>\n",
       "      <td>Austrian</td>\n",
       "      <td>Male</td>\n",
       "      <td>1841</td>\n",
       "      <td>1918</td>\n",
       "    </tr>\n",
       "    <tr>\n",
       "      <th>3</th>\n",
       "      <td>82125</td>\n",
       "      <td>Railing</td>\n",
       "      <td>6210</td>\n",
       "      <td>Otto Wagner</td>\n",
       "      <td>1899</td>\n",
       "      <td>2001-05-11</td>\n",
       "      <td>Dorothy Cullman Purchase Fund</td>\n",
       "      <td>Architecture</td>\n",
       "      <td>NaN</td>\n",
       "      <td>Austrian</td>\n",
       "      <td>Male</td>\n",
       "      <td>1841</td>\n",
       "      <td>1918</td>\n",
       "    </tr>\n",
       "    <tr>\n",
       "      <th>4</th>\n",
       "      <td>3</td>\n",
       "      <td>City of Music, National Superior Conservatory ...</td>\n",
       "      <td>7470</td>\n",
       "      <td>Christian de Portzamparc</td>\n",
       "      <td>1987</td>\n",
       "      <td>1995-01-17</td>\n",
       "      <td>Gift of the architect in honor of Lily Auchinc...</td>\n",
       "      <td>Architecture</td>\n",
       "      <td>NaN</td>\n",
       "      <td>French</td>\n",
       "      <td>Male</td>\n",
       "      <td>1944</td>\n",
       "      <td>NaN</td>\n",
       "    </tr>\n",
       "  </tbody>\n",
       "</table>\n",
       "</div>"
      ],
      "text/plain": [
       "  artwork_id                                              title artist_id  \\\n",
       "0          2  Ferdinandsbrücke Project, Vienna, Austria, Ele...      6210   \n",
       "1       4023                                           Armchair      6210   \n",
       "2       4026                                              Stool      6210   \n",
       "3      82125                                            Railing      6210   \n",
       "4          3  City of Music, National Superior Conservatory ...      7470   \n",
       "\n",
       "                     name_x  date acquisition_date  \\\n",
       "0               Otto Wagner  1896       1996-04-09   \n",
       "1               Otto Wagner  1902       1978-09-27   \n",
       "2               Otto Wagner  1904       1978-09-27   \n",
       "3               Otto Wagner  1899       2001-05-11   \n",
       "4  Christian de Portzamparc  1987       1995-01-17   \n",
       "\n",
       "                                              credit classification weight_kg  \\\n",
       "0  Fractional and promised gift of Jo Carole and ...   Architecture       NaN   \n",
       "1                Estée and Joseph Lauder Design Fund         Design       NaN   \n",
       "2                Estée and Joseph Lauder Design Fund         Design       NaN   \n",
       "3                      Dorothy Cullman Purchase Fund   Architecture       NaN   \n",
       "4  Gift of the architect in honor of Lily Auchinc...   Architecture       NaN   \n",
       "\n",
       "  nationality gender birth_year death_year  \n",
       "0    Austrian   Male       1841       1918  \n",
       "1    Austrian   Male       1841       1918  \n",
       "2    Austrian   Male       1841       1918  \n",
       "3    Austrian   Male       1841       1918  \n",
       "4      French   Male       1944        NaN  "
      ]
     },
     "execution_count": 10,
     "metadata": {
      "tags": []
     },
     "output_type": "execute_result"
    }
   ],
   "source": [
    "# we don't need all of these columns for our analysis so let's make a new one\n",
    "select = whole.loc[:,['artwork_id', 'title', 'artist_id', 'name_x', 'date', 'acquisition_date', 'credit', 'classification','weight_kg', 'nationality', 'gender', 'birth_year', 'death_year']]\n",
    "select.head()"
   ]
  },
  {
   "cell_type": "code",
   "execution_count": null,
   "metadata": {
    "id": "tCfYF9-t3E_S",
    "outputId": "22c7a53f-e688-4da1-9090-44512d56cb03"
   },
   "outputs": [
    {
     "data": {
      "text/html": [
       "<div>\n",
       "<style scoped>\n",
       "    .dataframe tbody tr th:only-of-type {\n",
       "        vertical-align: middle;\n",
       "    }\n",
       "\n",
       "    .dataframe tbody tr th {\n",
       "        vertical-align: top;\n",
       "    }\n",
       "\n",
       "    .dataframe thead th {\n",
       "        text-align: right;\n",
       "    }\n",
       "</style>\n",
       "<table border=\"1\" class=\"dataframe\">\n",
       "  <thead>\n",
       "    <tr style=\"text-align: right;\">\n",
       "      <th></th>\n",
       "      <th>artwork_id</th>\n",
       "      <th>title</th>\n",
       "      <th>artist_id</th>\n",
       "      <th>name_x</th>\n",
       "      <th>date</th>\n",
       "      <th>acquisition_date</th>\n",
       "      <th>credit</th>\n",
       "      <th>classification</th>\n",
       "      <th>weight_kg</th>\n",
       "      <th>nationality</th>\n",
       "      <th>gender</th>\n",
       "      <th>birth_year</th>\n",
       "      <th>death_year</th>\n",
       "    </tr>\n",
       "  </thead>\n",
       "  <tbody>\n",
       "    <tr>\n",
       "      <th>count</th>\n",
       "      <td>130262</td>\n",
       "      <td>130210</td>\n",
       "      <td>132595</td>\n",
       "      <td>128802</td>\n",
       "      <td>127950</td>\n",
       "      <td>124799</td>\n",
       "      <td>127192</td>\n",
       "      <td>130262</td>\n",
       "      <td>298</td>\n",
       "      <td>121084</td>\n",
       "      <td>126166</td>\n",
       "      <td>117093</td>\n",
       "      <td>77550</td>\n",
       "    </tr>\n",
       "    <tr>\n",
       "      <th>unique</th>\n",
       "      <td>130262</td>\n",
       "      <td>94882</td>\n",
       "      <td>17368</td>\n",
       "      <td>13530</td>\n",
       "      <td>9373</td>\n",
       "      <td>1876</td>\n",
       "      <td>7030</td>\n",
       "      <td>28</td>\n",
       "      <td>200</td>\n",
       "      <td>125</td>\n",
       "      <td>3</td>\n",
       "      <td>228</td>\n",
       "      <td>165</td>\n",
       "    </tr>\n",
       "    <tr>\n",
       "      <th>top</th>\n",
       "      <td>112113</td>\n",
       "      <td>Untitled</td>\n",
       "      <td>229</td>\n",
       "      <td>Eugène Atget</td>\n",
       "      <td>1971</td>\n",
       "      <td>1964-10-06</td>\n",
       "      <td>The Louis E. Stern Collection</td>\n",
       "      <td>Print</td>\n",
       "      <td>4.536</td>\n",
       "      <td>American</td>\n",
       "      <td>Male</td>\n",
       "      <td>1857</td>\n",
       "      <td>1927</td>\n",
       "    </tr>\n",
       "    <tr>\n",
       "      <th>freq</th>\n",
       "      <td>1</td>\n",
       "      <td>7180</td>\n",
       "      <td>5050</td>\n",
       "      <td>5050</td>\n",
       "      <td>1748</td>\n",
       "      <td>11220</td>\n",
       "      <td>10927</td>\n",
       "      <td>30807</td>\n",
       "      <td>6</td>\n",
       "      <td>55300</td>\n",
       "      <td>101469</td>\n",
       "      <td>5111</td>\n",
       "      <td>5136</td>\n",
       "    </tr>\n",
       "  </tbody>\n",
       "</table>\n",
       "</div>"
      ],
      "text/plain": [
       "       artwork_id     title artist_id        name_x    date acquisition_date  \\\n",
       "count      130262    130210    132595        128802  127950           124799   \n",
       "unique     130262     94882     17368         13530    9373             1876   \n",
       "top        112113  Untitled       229  Eugène Atget    1971       1964-10-06   \n",
       "freq            1      7180      5050          5050    1748            11220   \n",
       "\n",
       "                               credit classification weight_kg nationality  \\\n",
       "count                          127192         130262       298      121084   \n",
       "unique                           7030             28       200         125   \n",
       "top     The Louis E. Stern Collection          Print     4.536    American   \n",
       "freq                            10927          30807         6       55300   \n",
       "\n",
       "        gender birth_year death_year  \n",
       "count   126166     117093      77550  \n",
       "unique       3        228        165  \n",
       "top       Male       1857       1927  \n",
       "freq    101469       5111       5136  "
      ]
     },
     "execution_count": 11,
     "metadata": {
      "tags": []
     },
     "output_type": "execute_result"
    }
   ],
   "source": [
    "# let's see what items are most prevalent in our dataset \n",
    "select.describe(include=['object'])"
   ]
  },
  {
   "cell_type": "code",
   "execution_count": null,
   "metadata": {
    "id": "tnYQhYUS3E_T",
    "outputId": "2e433788-2009-46a8-d2ce-22b1a95a336a"
   },
   "outputs": [
    {
     "name": "stdout",
     "output_type": "stream",
     "text": [
      "<class 'pandas.core.frame.DataFrame'>\n",
      "Int64Index: 134055 entries, 0 to 134054\n",
      "Data columns (total 13 columns):\n",
      " #   Column            Non-Null Count   Dtype \n",
      "---  ------            --------------   ----- \n",
      " 0   artwork_id        130262 non-null  object\n",
      " 1   title             130210 non-null  object\n",
      " 2   artist_id         132595 non-null  object\n",
      " 3   name_x            128802 non-null  object\n",
      " 4   date              127950 non-null  object\n",
      " 5   acquisition_date  124799 non-null  object\n",
      " 6   credit            127192 non-null  object\n",
      " 7   classification    130262 non-null  object\n",
      " 8   weight_kg         298 non-null     object\n",
      " 9   nationality       121084 non-null  object\n",
      " 10  gender            126166 non-null  object\n",
      " 11  birth_year        117093 non-null  object\n",
      " 12  death_year        77550 non-null   object\n",
      "dtypes: object(13)\n",
      "memory usage: 14.3+ MB\n"
     ]
    }
   ],
   "source": [
    "# quick look at our data types & null counts\n",
    "select.info()\n",
    "# we can also see that some of the columns are formatted improperly\n",
    "# we will fix that later"
   ]
  },
  {
   "cell_type": "markdown",
   "metadata": {
    "id": "f6poll6H3E_T"
   },
   "source": [
    "## Let's think of some interesting questions based on the available columns\n",
    "\n",
    "* average num of artworks per artist - **done**\n",
    "* top 10 artists by # of art pieces - **done**\n",
    "* nationality with highest frequency of art pieces - **done**\n",
    "* frequency of artwork by classification type - **done**\n",
    "* num of artists by gender - **done**\n",
    "* largest artwork by weight - **done**\n",
    "\n",
    "\n",
    "* average age of living artists when artwork was acquired - **done**\n",
    "* does the average age change by type of art? -  **done**\n",
    "* youngest artist to be featured in MoMA - **done**\n",
    "* number of pieces acquired by year - **done**\n",
    "* Did the MoMa become more diverse over time, or was the # of artworks per artist consistent over time?  - **done**"
   ]
  },
  {
   "cell_type": "code",
   "execution_count": null,
   "metadata": {
    "id": "8fD-Bda13E_U",
    "outputId": "8372ce5c-8c8e-4e17-b709-517243b535e5"
   },
   "outputs": [
    {
     "name": "stdout",
     "output_type": "stream",
     "text": [
      "Featured artists have an average of 9.9 artworks in the Museum of Modern Art.\n"
     ]
    }
   ],
   "source": [
    "# average num of artworks per artist\n",
    "\n",
    "tot_per_artist = whole['name_x'].value_counts()\n",
    "avg_art_per_artist = len(whole) / len(tot_per_artist)\n",
    "# print(avg_art_per_artist)\n",
    "template = \"Featured artists have an average of {q:.1f} artworks in the Museum of Modern Art.\"\n",
    "output = template.format(q=avg_art_per_artist)\n",
    "print(output)"
   ]
  },
  {
   "cell_type": "code",
   "execution_count": null,
   "metadata": {
    "id": "fqyAnPSi3E_V",
    "outputId": "19777b64-daf3-4704-cf9b-01a4a6c23f14"
   },
   "outputs": [
    {
     "data": {
      "text/html": [
       "<div>\n",
       "<style scoped>\n",
       "    .dataframe tbody tr th:only-of-type {\n",
       "        vertical-align: middle;\n",
       "    }\n",
       "\n",
       "    .dataframe tbody tr th {\n",
       "        vertical-align: top;\n",
       "    }\n",
       "\n",
       "    .dataframe thead th {\n",
       "        text-align: right;\n",
       "    }\n",
       "</style>\n",
       "<table border=\"1\" class=\"dataframe\">\n",
       "  <thead>\n",
       "    <tr style=\"text-align: right;\">\n",
       "      <th></th>\n",
       "      <th>artists</th>\n",
       "      <th>counts</th>\n",
       "    </tr>\n",
       "  </thead>\n",
       "  <tbody>\n",
       "    <tr>\n",
       "      <th>0</th>\n",
       "      <td>Eugène Atget</td>\n",
       "      <td>5050</td>\n",
       "    </tr>\n",
       "    <tr>\n",
       "      <th>1</th>\n",
       "      <td>Louise Bourgeois</td>\n",
       "      <td>3318</td>\n",
       "    </tr>\n",
       "    <tr>\n",
       "      <th>2</th>\n",
       "      <td>Ludwig Mies van der Rohe</td>\n",
       "      <td>2566</td>\n",
       "    </tr>\n",
       "    <tr>\n",
       "      <th>4</th>\n",
       "      <td>Jean Dubuffet</td>\n",
       "      <td>1435</td>\n",
       "    </tr>\n",
       "    <tr>\n",
       "      <th>5</th>\n",
       "      <td>Lee Friedlander</td>\n",
       "      <td>1317</td>\n",
       "    </tr>\n",
       "    <tr>\n",
       "      <th>6</th>\n",
       "      <td>Pablo Picasso</td>\n",
       "      <td>1310</td>\n",
       "    </tr>\n",
       "    <tr>\n",
       "      <th>7</th>\n",
       "      <td>Marc Chagall</td>\n",
       "      <td>1162</td>\n",
       "    </tr>\n",
       "    <tr>\n",
       "      <th>8</th>\n",
       "      <td>Henri Matisse</td>\n",
       "      <td>1063</td>\n",
       "    </tr>\n",
       "    <tr>\n",
       "      <th>9</th>\n",
       "      <td>Pierre Bonnard</td>\n",
       "      <td>894</td>\n",
       "    </tr>\n",
       "    <tr>\n",
       "      <th>10</th>\n",
       "      <td>Lilly Reich</td>\n",
       "      <td>823</td>\n",
       "    </tr>\n",
       "  </tbody>\n",
       "</table>\n",
       "</div>"
      ],
      "text/plain": [
       "                     artists  counts\n",
       "0               Eugène Atget    5050\n",
       "1           Louise Bourgeois    3318\n",
       "2   Ludwig Mies van der Rohe    2566\n",
       "4              Jean Dubuffet    1435\n",
       "5            Lee Friedlander    1317\n",
       "6              Pablo Picasso    1310\n",
       "7               Marc Chagall    1162\n",
       "8              Henri Matisse    1063\n",
       "9             Pierre Bonnard     894\n",
       "10               Lilly Reich     823"
      ]
     },
     "execution_count": 14,
     "metadata": {
      "tags": []
     },
     "output_type": "execute_result"
    }
   ],
   "source": [
    "# top 10 artists by # of art pieces\n",
    "\n",
    "top10_artist = whole['name_x'].value_counts().rename_axis('artists').reset_index(name='counts')\n",
    "top10_artist = top10_artist[0:11]\n",
    "top10_artist = top10_artist.drop(index=3) # this drops the unknown photographer row\n",
    "top10_artist\n"
   ]
  },
  {
   "cell_type": "code",
   "execution_count": null,
   "metadata": {
    "id": "6ShzfWZv3E_W",
    "outputId": "88f0da81-5951-4961-b93a-bbb0d4513f54"
   },
   "outputs": [
    {
     "data": {
      "image/png": "[encoded data removed]",
      "text/plain": [
       "<Figure size 576x288 with 1 Axes>"
      ]
     },
     "metadata": {
      "tags": []
     },
     "output_type": "display_data"
    }
   ],
   "source": [
    "# let's make the chart prettier using an object-oriented (OO) interface\n",
    "fig, ax = plt.subplots(figsize=(8, 4)) #figsize changes the size\n",
    "ax.barh(top10_artist['artists'],\n",
    "         top10_artist['counts'],\n",
    "       height=0.45, color='slateblue')\n",
    "\n",
    "for location in ['left', 'right', 'bottom', 'top']:\n",
    "    ax.spines[location].set_visible(False) # removes all four chart box lines\n",
    "\n",
    "ax.tick_params(bottom=False, left=False) # removes the tick marks next to the artists names\n",
    "ax.set_xticks([1000, 3000, 5000]) # set only certain x count markers\n",
    "ax.xaxis.tick_top() # move ticks from bottom to top\n",
    "ax.tick_params(top=False, left=False) # remove ticks from x axis\n",
    "ax.tick_params(axis='x', colors='grey') #lightens the color of the x axis text\n",
    "\n",
    "ax.text(x=100, y=-3, s='Top 10 Artists with the Highest # of ArtWorks in MoMA',\n",
    "        size=15)\n",
    "ax.axvline(x=3000, ymin=0.045, c='grey', alpha=0.5) # sets a grey marker line in the chart\n",
    "ax.invert_yaxis() # flip the axis to sort descending\n",
    "\n",
    "  \n",
    "plt.show()"
   ]
  },
  {
   "cell_type": "code",
   "execution_count": null,
   "metadata": {
    "id": "RjZLrRAY3E_b",
    "outputId": "c438dad6-ebf9-4f2a-9a34-8dad84574cbe"
   },
   "outputs": [
    {
     "data": {
      "text/html": [
       "<div>\n",
       "<style scoped>\n",
       "    .dataframe tbody tr th:only-of-type {\n",
       "        vertical-align: middle;\n",
       "    }\n",
       "\n",
       "    .dataframe tbody tr th {\n",
       "        vertical-align: top;\n",
       "    }\n",
       "\n",
       "    .dataframe thead th {\n",
       "        text-align: right;\n",
       "    }\n",
       "</style>\n",
       "<table border=\"1\" class=\"dataframe\">\n",
       "  <thead>\n",
       "    <tr style=\"text-align: right;\">\n",
       "      <th></th>\n",
       "      <th>nationality</th>\n",
       "      <th>counts</th>\n",
       "    </tr>\n",
       "  </thead>\n",
       "  <tbody>\n",
       "    <tr>\n",
       "      <th>0</th>\n",
       "      <td>American</td>\n",
       "      <td>55300</td>\n",
       "    </tr>\n",
       "    <tr>\n",
       "      <th>1</th>\n",
       "      <td>French</td>\n",
       "      <td>22394</td>\n",
       "    </tr>\n",
       "    <tr>\n",
       "      <th>2</th>\n",
       "      <td>German</td>\n",
       "      <td>9142</td>\n",
       "    </tr>\n",
       "    <tr>\n",
       "      <th>3</th>\n",
       "      <td>British</td>\n",
       "      <td>5672</td>\n",
       "    </tr>\n",
       "    <tr>\n",
       "      <th>4</th>\n",
       "      <td>Spanish</td>\n",
       "      <td>2983</td>\n",
       "    </tr>\n",
       "    <tr>\n",
       "      <th>5</th>\n",
       "      <td>Italian</td>\n",
       "      <td>2874</td>\n",
       "    </tr>\n",
       "    <tr>\n",
       "      <th>6</th>\n",
       "      <td>Japanese</td>\n",
       "      <td>2423</td>\n",
       "    </tr>\n",
       "    <tr>\n",
       "      <th>7</th>\n",
       "      <td>Swiss</td>\n",
       "      <td>1997</td>\n",
       "    </tr>\n",
       "    <tr>\n",
       "      <th>8</th>\n",
       "      <td>Dutch</td>\n",
       "      <td>1536</td>\n",
       "    </tr>\n",
       "    <tr>\n",
       "      <th>9</th>\n",
       "      <td>Russian</td>\n",
       "      <td>1495</td>\n",
       "    </tr>\n",
       "  </tbody>\n",
       "</table>\n",
       "</div>"
      ],
      "text/plain": [
       "  nationality  counts\n",
       "0    American   55300\n",
       "1      French   22394\n",
       "2      German    9142\n",
       "3     British    5672\n",
       "4     Spanish    2983\n",
       "5     Italian    2874\n",
       "6    Japanese    2423\n",
       "7       Swiss    1997\n",
       "8       Dutch    1536\n",
       "9     Russian    1495"
      ]
     },
     "execution_count": 16,
     "metadata": {
      "tags": []
     },
     "output_type": "execute_result"
    }
   ],
   "source": [
    "# nationality with the greatest frequency of artwork\n",
    "\n",
    "top_nations = whole['nationality'].value_counts().rename_axis('nationality').reset_index(name='counts')\n",
    "top_nations = top_nations[0:10]\n",
    "top_nations"
   ]
  },
  {
   "cell_type": "code",
   "execution_count": null,
   "metadata": {
    "id": "Dt11xJHr3E_c",
    "outputId": "7ed0f8b5-8d56-47bc-b6e9-912e153b72fb"
   },
   "outputs": [
    {
     "data": {
      "image/png": "[encoded data removed]",
      "text/plain": [
       "<Figure size 576x288 with 1 Axes>"
      ]
     },
     "metadata": {
      "tags": []
     },
     "output_type": "display_data"
    }
   ],
   "source": [
    "# let's make the chart prettier using an object-oriented (OO) interface\n",
    "fig, ax = plt.subplots(figsize=(8, 4)) #figsize changes the size\n",
    "ax.barh(top_nations['nationality'],\n",
    "         top_nations['counts'],\n",
    "       height=0.45, color='slateblue')\n",
    "\n",
    "for location in ['left', 'right', 'bottom', 'top']:\n",
    "    ax.spines[location].set_visible(False) # removes all four chart box lines\n",
    "\n",
    "ax.tick_params(bottom=False, left=False) # removes the tick marks next to the artists names\n",
    "ax.set_xticks([1000, 25000, 50000]) # set only certain x count markers\n",
    "ax.xaxis.tick_top() # move ticks from bottom to top\n",
    "ax.tick_params(top=False, left=False) # remove ticks from x axis\n",
    "ax.tick_params(axis='x', colors='grey') #lightens the color of the x axis text\n",
    "\n",
    "ax.text(x=100, y=-3, s='Top 10 Nationalities by # of ArtWorks in MoMA',\n",
    "        size=15)\n",
    "ax.axvline(x=25000, ymin=0.045, c='grey', alpha=0.5) # sets a grey marker line in the chart\n",
    "ax.invert_yaxis() # flip the axis to sort descending\n",
    "\n",
    "  \n",
    "plt.show()"
   ]
  },
  {
   "cell_type": "code",
   "execution_count": null,
   "metadata": {
    "id": "ORUodGi33E_g",
    "outputId": "50093ab6-95eb-4c66-c7f1-b039d1471496"
   },
   "outputs": [
    {
     "data": {
      "text/html": [
       "<div>\n",
       "<style scoped>\n",
       "    .dataframe tbody tr th:only-of-type {\n",
       "        vertical-align: middle;\n",
       "    }\n",
       "\n",
       "    .dataframe tbody tr th {\n",
       "        vertical-align: top;\n",
       "    }\n",
       "\n",
       "    .dataframe thead th {\n",
       "        text-align: right;\n",
       "    }\n",
       "</style>\n",
       "<table border=\"1\" class=\"dataframe\">\n",
       "  <thead>\n",
       "    <tr style=\"text-align: right;\">\n",
       "      <th></th>\n",
       "      <th>classifications</th>\n",
       "      <th>counts</th>\n",
       "    </tr>\n",
       "  </thead>\n",
       "  <tbody>\n",
       "    <tr>\n",
       "      <th>0</th>\n",
       "      <td>Print</td>\n",
       "      <td>30807</td>\n",
       "    </tr>\n",
       "    <tr>\n",
       "      <th>1</th>\n",
       "      <td>Photograph</td>\n",
       "      <td>29909</td>\n",
       "    </tr>\n",
       "    <tr>\n",
       "      <th>2</th>\n",
       "      <td>Illustrated Book</td>\n",
       "      <td>26160</td>\n",
       "    </tr>\n",
       "    <tr>\n",
       "      <th>3</th>\n",
       "      <td>Drawing</td>\n",
       "      <td>11735</td>\n",
       "    </tr>\n",
       "    <tr>\n",
       "      <th>4</th>\n",
       "      <td>Design</td>\n",
       "      <td>11223</td>\n",
       "    </tr>\n",
       "    <tr>\n",
       "      <th>5</th>\n",
       "      <td>Mies van der Rohe Archive</td>\n",
       "      <td>3331</td>\n",
       "    </tr>\n",
       "    <tr>\n",
       "      <th>6</th>\n",
       "      <td>Architecture</td>\n",
       "      <td>2947</td>\n",
       "    </tr>\n",
       "    <tr>\n",
       "      <th>7</th>\n",
       "      <td>Video</td>\n",
       "      <td>2363</td>\n",
       "    </tr>\n",
       "    <tr>\n",
       "      <th>8</th>\n",
       "      <td>Film</td>\n",
       "      <td>2292</td>\n",
       "    </tr>\n",
       "    <tr>\n",
       "      <th>9</th>\n",
       "      <td>Painting</td>\n",
       "      <td>2270</td>\n",
       "    </tr>\n",
       "  </tbody>\n",
       "</table>\n",
       "</div>"
      ],
      "text/plain": [
       "             classifications  counts\n",
       "0                      Print   30807\n",
       "1                 Photograph   29909\n",
       "2           Illustrated Book   26160\n",
       "3                    Drawing   11735\n",
       "4                     Design   11223\n",
       "5  Mies van der Rohe Archive    3331\n",
       "6               Architecture    2947\n",
       "7                      Video    2363\n",
       "8                       Film    2292\n",
       "9                   Painting    2270"
      ]
     },
     "execution_count": 18,
     "metadata": {
      "tags": []
     },
     "output_type": "execute_result"
    }
   ],
   "source": [
    "# frequency of artwork by classification type\n",
    "\n",
    "top_classify = whole['classification'].value_counts().rename_axis('classifications').reset_index(name='counts')\n",
    "top_classify = top_classify[0:10]\n",
    "top_classify"
   ]
  },
  {
   "cell_type": "code",
   "execution_count": null,
   "metadata": {
    "id": "QGTvZy2y3E_g",
    "outputId": "5f348665-e3b3-4ff9-9457-38349d2b580f"
   },
   "outputs": [
    {
     "data": {
      "image/png": "[encoded data removed]",
      "text/plain": [
       "<Figure size 576x288 with 1 Axes>"
      ]
     },
     "metadata": {
      "tags": []
     },
     "output_type": "display_data"
    }
   ],
   "source": [
    "# let's make the chart prettier using an object-oriented (OO) interface\n",
    "fig, ax = plt.subplots(figsize=(8, 4)) #figsize changes the size\n",
    "ax.barh(top_classify['classifications'],\n",
    "         top_classify['counts'],\n",
    "       height=0.45, color='slateblue')\n",
    "\n",
    "for location in ['left', 'right', 'bottom', 'top']:\n",
    "    ax.spines[location].set_visible(False) # removes all four chart box lines\n",
    "\n",
    "ax.tick_params(bottom=False, left=False) # removes the tick marks next to the artists names\n",
    "ax.set_xticks([1000, 15000, 30000]) # set only certain x count markers\n",
    "ax.xaxis.tick_top() # move ticks from bottom to top\n",
    "ax.tick_params(top=False, left=False) # remove ticks from x axis\n",
    "ax.tick_params(axis='x', colors='grey') #lightens the color of the x axis text\n",
    "\n",
    "ax.text(x=100, y=-3, s='Top 10 Art Types by # of ArtWorks in MoMA',\n",
    "        size=15)\n",
    "ax.axvline(x=15000, ymin=0.045, c='grey', alpha=0.5) # sets a grey marker line in the chart\n",
    "ax.invert_yaxis() # flip the axis to sort descending\n",
    "\n",
    "  \n",
    "plt.show()"
   ]
  },
  {
   "cell_type": "code",
   "execution_count": null,
   "metadata": {
    "id": "VRh_QG1x3E_h",
    "outputId": "1bd6adaa-b80f-4ca3-f994-1843c2a47e32"
   },
   "outputs": [
    {
     "data": {
      "text/html": [
       "<div>\n",
       "<style scoped>\n",
       "    .dataframe tbody tr th:only-of-type {\n",
       "        vertical-align: middle;\n",
       "    }\n",
       "\n",
       "    .dataframe tbody tr th {\n",
       "        vertical-align: top;\n",
       "    }\n",
       "\n",
       "    .dataframe thead th {\n",
       "        text-align: right;\n",
       "    }\n",
       "</style>\n",
       "<table border=\"1\" class=\"dataframe\">\n",
       "  <thead>\n",
       "    <tr style=\"text-align: right;\">\n",
       "      <th></th>\n",
       "      <th>gender</th>\n",
       "      <th>counts</th>\n",
       "    </tr>\n",
       "  </thead>\n",
       "  <tbody>\n",
       "    <tr>\n",
       "      <th>0</th>\n",
       "      <td>males</td>\n",
       "      <td>8336</td>\n",
       "    </tr>\n",
       "    <tr>\n",
       "      <th>1</th>\n",
       "      <td>females</td>\n",
       "      <td>1829</td>\n",
       "    </tr>\n",
       "    <tr>\n",
       "      <th>2</th>\n",
       "      <td>others</td>\n",
       "      <td>1094</td>\n",
       "    </tr>\n",
       "  </tbody>\n",
       "</table>\n",
       "</div>"
      ],
      "text/plain": [
       "    gender  counts\n",
       "0    males    8336\n",
       "1  females    1829\n",
       "2   others    1094"
      ]
     },
     "execution_count": 20,
     "metadata": {
      "tags": []
     },
     "output_type": "execute_result"
    }
   ],
   "source": [
    "# number artists by gender\n",
    "\n",
    "male_artists = whole[(whole['gender']=='Male')]\n",
    "male_artists.head()\n",
    "males = male_artists.name_x.unique()\n",
    "males2 = len(males)  \n",
    "\n",
    "female_artists = whole[(whole['gender']=='Female')]\n",
    "female_artists.head()\n",
    "females = female_artists.name_x.unique()\n",
    "females2 = len(females)\n",
    "\n",
    "\n",
    "other_artists = whole[(whole['gender']=='Gender Unknown')]\n",
    "other_artists.head()\n",
    "others = other_artists.name_x.unique()\n",
    "others2 = len(others)\n",
    "\n",
    "all_gen= males2 + females2 + others2 - 1 # we need to subtract one for the unknown artist counts\n",
    "\n",
    "\n",
    "# temp2 = \"There are {m:,} artworks by male artists, {f:,} by females and {o:,} by other genders in the Museum of Modern Art. In total there are {a:,} unique known artists featured.\"\n",
    "# output = temp2.format(m=males2, f=females2, o=others2, a=all_gen)\n",
    "# print(output)\n",
    "\n",
    "gender_data = [['males', males2], ['females',females2],['others', others2]] # build a list with the gender data\n",
    "gender_df = pd.DataFrame(gender_data, columns = ['gender', 'counts']) # transform that list into a dataframe\n",
    "gender_df"
   ]
  },
  {
   "cell_type": "code",
   "execution_count": null,
   "metadata": {
    "id": "BIQLp9l93E_i",
    "outputId": "6ce41171-8f95-40fb-8f6d-e868dcca82a0"
   },
   "outputs": [
    {
     "data": {
      "image/png": "[encoded data removed]",
      "text/plain": [
       "<Figure size 432x144 with 1 Axes>"
      ]
     },
     "metadata": {
      "tags": []
     },
     "output_type": "display_data"
    }
   ],
   "source": [
    "# let's make the chart prettier using an object-oriented (OO) interface\n",
    "fig, ax = plt.subplots(figsize=(6, 2)) #figsize changes the size\n",
    "ax.barh(gender_df['gender'],\n",
    "         gender_df['counts'],\n",
    "       height=0.65, color='slateblue')\n",
    "\n",
    "for location in ['left', 'right', 'bottom', 'top']:\n",
    "    ax.spines[location].set_visible(False) # removes all four chart box lines\n",
    "\n",
    "ax.tick_params(bottom=False, left=False) # removes the tick marks next to the artists names\n",
    "ax.set_xticks([1000, 4000, 8000]) # set only certain x count markers\n",
    "ax.xaxis.tick_top() # move ticks from bottom to top\n",
    "ax.tick_params(top=False, left=False) # remove ticks from x axis\n",
    "ax.tick_params(axis='x', colors='grey') #lightens the color of the x axis text\n",
    "\n",
    "ax.text(x=150, y=-1.5, s='# of ArtWorks Per Gender in MoMA',\n",
    "        size=15)\n",
    "ax.invert_yaxis() # flip the axis to sort descending\n",
    "\n",
    "  \n",
    "plt.show()"
   ]
  },
  {
   "cell_type": "code",
   "execution_count": null,
   "metadata": {
    "id": "k0NbAwkh3E_j",
    "outputId": "c49f7aec-2777-493f-c873-9b6deb1fd8bf"
   },
   "outputs": [
    {
     "name": "stdout",
     "output_type": "stream",
     "text": [
      "The heaviest artwork in MoMA is the Switch Sculpture created by Richard Serra in 1999. It has a weight of 185,067.6 kg\n"
     ]
    }
   ],
   "source": [
    "# largest artwork by weight\n",
    "\n",
    "heav = whole.weight_kg.unique() \n",
    "# print(heav[:50])\n",
    "\n",
    "# looking at the unique values showed that we needed to set 0 for blank values\n",
    "whole['weight_kg'] = whole['weight_kg'].replace([''],'0') \n",
    "whole['weight_kg'] = pd.to_numeric(whole['weight_kg'], downcast='float')\n",
    "\n",
    "# after changing the values to integers we can set a descending sort value and see the heaviest artwork in MoMA                                   \n",
    "heavy_art = whole.sort_values(by=['weight_kg'], ascending = False)\n",
    "heavy_art.head()\n",
    "\n",
    "heaviest_artwork = heavy_art.iloc[0]\n",
    "# print(heaviest_artwork)\n",
    "\n",
    "heavy_title = heaviest_artwork['title']\n",
    "heavy_artist = heaviest_artwork['name_x']\n",
    "heavy_date = heaviest_artwork['date']\n",
    "heavy_classification = heaviest_artwork['classification']\n",
    "heavy_weight = heaviest_artwork['weight_kg']\n",
    "\n",
    "temp3 = \"The heaviest artwork in MoMA is the {t} {c} created by {a} in {d}. It has a weight of {w:,.1f} kg\"\n",
    "output3 = temp3.format(t=heavy_title, c=heavy_classification, a=heavy_artist, d=heavy_date, w=heavy_weight)\n",
    "print(output3)"
   ]
  },
  {
   "cell_type": "markdown",
   "metadata": {
    "id": "ltt1PV653E_k"
   },
   "source": [
    "### Average Age of Artist When ArtWork was Acquired"
   ]
  },
  {
   "cell_type": "code",
   "execution_count": 1,
   "metadata": {
    "colab": {
     "base_uri": "https://localhost:8080/",
     "height": 214
    },
    "id": "G0UPp4wz3E_k",
    "outputId": "e0a3cf44-4d0b-4e51-d48e-98f044a1a08c"
   },
   "outputs": [
    {
     "ename": "NameError",
     "evalue": "ignored",
     "output_type": "error",
     "traceback": [
      "\u001b[0;31m---------------------------------------------------------------------------\u001b[0m",
      "\u001b[0;31mNameError\u001b[0m                                 Traceback (most recent call last)",
      "\u001b[0;32m<ipython-input-1-87be1ed07325>\u001b[0m in \u001b[0;36m<module>\u001b[0;34m()\u001b[0m\n\u001b[1;32m      1\u001b[0m \u001b[0;31m# first let's make a dataframe with just the relevant columns\u001b[0m\u001b[0;34m\u001b[0m\u001b[0;34m\u001b[0m\u001b[0;34m\u001b[0m\u001b[0m\n\u001b[1;32m      2\u001b[0m \u001b[0;34m\u001b[0m\u001b[0m\n\u001b[0;32m----> 3\u001b[0;31m \u001b[0mage_df\u001b[0m \u001b[0;34m=\u001b[0m \u001b[0mselect\u001b[0m\u001b[0;34m.\u001b[0m\u001b[0mloc\u001b[0m\u001b[0;34m[\u001b[0m\u001b[0;34m:\u001b[0m\u001b[0;34m,\u001b[0m\u001b[0;34m[\u001b[0m\u001b[0;34m'artwork_id'\u001b[0m\u001b[0;34m,\u001b[0m \u001b[0;34m'artist_id'\u001b[0m\u001b[0;34m,\u001b[0m \u001b[0;34m'name_x'\u001b[0m\u001b[0;34m,\u001b[0m \u001b[0;34m'classification'\u001b[0m \u001b[0;34m,\u001b[0m\u001b[0;34m'date'\u001b[0m\u001b[0;34m,\u001b[0m \u001b[0;34m'acquisition_date'\u001b[0m\u001b[0;34m,\u001b[0m \u001b[0;34m'gender'\u001b[0m\u001b[0;34m,\u001b[0m \u001b[0;34m'birth_year'\u001b[0m\u001b[0;34m,\u001b[0m \u001b[0;34m'death_year'\u001b[0m\u001b[0;34m]\u001b[0m\u001b[0;34m]\u001b[0m\u001b[0;34m\u001b[0m\u001b[0;34m\u001b[0m\u001b[0m\n\u001b[0m\u001b[1;32m      4\u001b[0m \u001b[0mage_df\u001b[0m\u001b[0;34m.\u001b[0m\u001b[0mhead\u001b[0m\u001b[0;34m(\u001b[0m\u001b[0;34m)\u001b[0m\u001b[0;34m\u001b[0m\u001b[0;34m\u001b[0m\u001b[0m\n",
      "\u001b[0;31mNameError\u001b[0m: name 'select' is not defined"
     ]
    }
   ],
   "source": [
    "# first let's make a dataframe with just the relevant columns\n",
    "\n",
    "age_df = select.loc[:,['artwork_id', 'artist_id', 'name_x', 'classification' ,'date', 'acquisition_date', 'gender', 'birth_year', 'death_year']]\n",
    "age_df.head()"
   ]
  },
  {
   "cell_type": "code",
   "execution_count": null,
   "metadata": {
    "id": "joAV6Xr63E_l"
   },
   "outputs": [],
   "source": [
    "age_df['acquisition_date'].unique() # confirms all entries have a yyyy on the left\n",
    "age_df['acquisition_year'] = age_df['acquisition_date'].str[:4] # extracts the year and places into a new column\n",
    "age_df.head(5)"
   ]
  },
  {
   "cell_type": "code",
   "execution_count": null,
   "metadata": {
    "id": "CYGstKTf3E_m"
   },
   "outputs": [],
   "source": [
    "age_df['acquisition_year'].unique()"
   ]
  },
  {
   "cell_type": "code",
   "execution_count": null,
   "metadata": {
    "id": "HyukobED3E_o"
   },
   "outputs": [],
   "source": [
    "# we need to change years to numbers so we can calculate ages\n",
    "# we have to handle nans first\n",
    "age_df['birth_year'] = age_df['birth_year'].replace([''],'0').fillna(0).astype(str).astype(int)\n",
    "age_df['death_year'] = age_df['death_year'].replace([''],'0').fillna(0).astype(str).astype(int)\n",
    "age_df['acquisition_year'] = age_df['acquisition_year'].fillna(0)\n",
    "age_df['acquisition_year'] = age_df['acquisition_year'].astype(str).astype(int)\n",
    "age_df = age_df[age_df['acquisition_year'] != 0] #removes all rows where the acquisition date is unknown\n",
    "age_df = age_df[age_df['birth_year'] != 0] #removes all rows where the birth year is unknown"
   ]
  },
  {
   "cell_type": "code",
   "execution_count": null,
   "metadata": {
    "id": "h5tSK_5D3E_o"
   },
   "outputs": [],
   "source": [
    "age_df['acquisition_year'].unique()\n",
    "# age_df.info() # we now have data we can work with to calculate age\n",
    "# age_df.head(10)"
   ]
  },
  {
   "cell_type": "code",
   "execution_count": null,
   "metadata": {
    "id": "6-BeLlzg3E_p"
   },
   "outputs": [],
   "source": [
    "# but before we can accurately calculate average age at acquisition \n",
    "# we need to isolate only artists who were living when their work was acquired\n",
    "alive = age_df[age_df['death_year'] == 0]\n",
    "alive['age_at_acq'] = alive['acquisition_year'] - alive['birth_year']\n",
    "alive['age_at_acq'].unique()\n",
    "# alive.tail()"
   ]
  },
  {
   "cell_type": "code",
   "execution_count": null,
   "metadata": {
    "id": "2xkdzTmq3E_q"
   },
   "outputs": [],
   "source": [
    "# let's look at a few of the unusual results\n",
    "odd = alive[alive['age_at_acq'] > 100]\n",
    "odd.head()\n",
    "\n",
    "# this shows us that there may be some death years missing\n",
    "# let's throw out any cases larger than 100"
   ]
  },
  {
   "cell_type": "code",
   "execution_count": null,
   "metadata": {
    "id": "AndM7Gpw3E_r"
   },
   "outputs": [],
   "source": [
    "alive = alive[alive['age_at_acq'] < 101]\n",
    "alive.head()"
   ]
  },
  {
   "cell_type": "code",
   "execution_count": null,
   "metadata": {
    "id": "_49MJOYd3E_r"
   },
   "outputs": [],
   "source": [
    "alive['age_at_acq'].unique()\n",
    "# we also need to remove the negative values\n",
    "alive = alive[alive['age_at_acq'] > 0]\n",
    "alive['age_at_acq'].unique()"
   ]
  },
  {
   "cell_type": "code",
   "execution_count": null,
   "metadata": {
    "id": "AdcQ-VfJ3E_s"
   },
   "outputs": [],
   "source": [
    "# find the average age at acquisition for all live artists\n",
    "avg_age_acq = round(alive['age_at_acq'].mean(),1)\n",
    "template = \"There are {q:,} artworks from known living artists with available birth years and acquisition years. The average age of the artist at acquisition year is {y:,} year's old.\"\n",
    "output = template.format(y=avg_age_acq, q=len(alive['age_at_acq']))\n",
    "print(output)"
   ]
  },
  {
   "cell_type": "code",
   "execution_count": null,
   "metadata": {
    "id": "mS8kyxRx3E_u"
   },
   "outputs": [],
   "source": [
    "# does the average age change by the type of art\n",
    "alive['classification'].unique()\n",
    "age_class = alive.groupby('classification')['age_at_acq'].mean().round(1).reset_index()\n",
    "age_class = age_class.sort_values(by='age_at_acq', ascending=False)\n",
    "age_class.head()"
   ]
  },
  {
   "cell_type": "code",
   "execution_count": null,
   "metadata": {
    "id": "xgz7aV7U3E_v"
   },
   "outputs": [],
   "source": [
    "# visualization of average age by classification type\n",
    "fig, ax = plt.subplots(figsize=(10, 6)) #figsize changes the size\n",
    "ax.barh(age_class['classification'],\n",
    "        age_class['age_at_acq'],\n",
    "       height=.5, color='slateblue')\n",
    "\n",
    "for location in ['left', 'right', 'bottom', 'top']:\n",
    "    ax.spines[location].set_visible(False) # removes all four chart box lines\n",
    "\n",
    "ax.tick_params(bottom=False, left=False) # removes the tick marks next to the artists names\n",
    "ax.set_xticks([10, 40, 80]) # set only certain x count markers\n",
    "ax.xaxis.tick_top() # move ticks from bottom to top\n",
    "ax.tick_params(top=False, left=False) # remove ticks from x axis\n",
    "ax.tick_params(axis='x', colors='grey') #lightens the color of the x axis text\n",
    "\n",
    "ax.text(x=8, y=-4, s='Average Age of Artist at Time Artwork was Acquired',\n",
    "        size=15)\n",
    "ax.axvline(x=40, ymin=0.045, c='grey', alpha=0.5) # sets a grey marker line in the chart\n",
    "ax.invert_yaxis() # flip the axis to sort descending  \n",
    "plt.show()"
   ]
  },
  {
   "cell_type": "code",
   "execution_count": null,
   "metadata": {
    "id": "DhJb1cLX3E_w"
   },
   "outputs": [],
   "source": [
    "# youngest artist to be featured in MoMa\n",
    "youngest = alive.sort_values(by='age_at_acq',ascending=True)\n",
    "youngest.head()\n",
    "youngest = youngest[(youngest['age_at_acq']==1)]\n",
    "youngest.head(10)"
   ]
  },
  {
   "cell_type": "code",
   "execution_count": null,
   "metadata": {
    "id": "UgLSmzDe3E_w"
   },
   "outputs": [],
   "source": [
    "# there are 6 records where the age at time of acquisition was one year\n",
    "# however, for many of the records the art's creation date preceeds the birth year\n",
    "# this creates concerns for the validity of the birth year\n",
    "# for 1 out of the 6 records the birth year, art creation date and acquisition all align\n",
    "# this record will be classified as the youngest artist to be featured\n",
    "\n",
    "youngest_artist = youngest[(youngest['name_x']=='Robin Schwartz')].reset_index()\n",
    "name=youngest_artist['name_x']\n",
    "year=youngest_artist['acquisition_year']\n",
    "\n",
    "template = \"The youngest artist featured in the Museum of Modern Art was {q:}. She was a one year old Female whose print art was acquired in {y}.\"\n",
    "output = template.format(q=name, y=year)\n",
    "print(output)\n",
    "# name.head()"
   ]
  },
  {
   "cell_type": "code",
   "execution_count": null,
   "metadata": {
    "id": "Z0dmDyws3E_x"
   },
   "outputs": [],
   "source": [
    "# number of pieces acquired by year\n",
    "\n",
    "yearly = age_df['acquisition_year'].value_counts().rename_axis('acquisition_year').reset_index(name='counts')\n",
    "yearly = yearly.sort_values(by='counts', ascending=False)\n",
    "yearly.head(10)\n",
    "\n",
    "# here we can see that the most pieces of artwork were collected in 1964\n",
    "# we can also see that we have a faulty record (year 1216) That predates the open date of the museum\n",
    "# we can throw that record out\n",
    "yearly = yearly[(yearly['acquisition_year']!= 1216)]\n",
    "yearly.head()\n",
    "\n",
    "# len(yearly)\n",
    "# with 89 different years of artwork collection we can not easily see trends over time"
   ]
  },
  {
   "cell_type": "code",
   "execution_count": null,
   "metadata": {
    "id": "JhC-wPqF3E_y"
   },
   "outputs": [],
   "source": [
    "# let's bucket the years so we can better understand trends over time\n",
    "\n",
    "bins = [1925, 1935, 1945, 1955, 1965, 1975, 1985, 1995, 2005, 2015, 2025]\n",
    "labels =['25-34', '35-44', '45-54', '55-64', '65-74', '75-84', '85-94', '95-04', '05-14', '15-24']\n",
    "yearly = yearly.sort_values(by='acquisition_year', ascending=True)\n",
    "yearly['binned'] = pd.cut(yearly['acquisition_year'], bins,labels=labels)\n",
    "\n",
    "yearly.head()\n",
    "\n",
    "yearly_binned = yearly.groupby('binned')['counts'].sum().rename_axis('year_groups').reset_index(name='# of artworks')\n",
    "yearly_binned.head(25)"
   ]
  },
  {
   "cell_type": "code",
   "execution_count": null,
   "metadata": {
    "id": "_gBukpJB3E_z"
   },
   "outputs": [],
   "source": [
    "# checking to make sure the binning bucketed properly\n",
    "yearly['counts'].sum()\n",
    "yearly_binned['# of artworks'].sum()"
   ]
  },
  {
   "cell_type": "code",
   "execution_count": null,
   "metadata": {
    "id": "4Zl1T9zz3E_z"
   },
   "outputs": [],
   "source": [
    "# visualization of artworks collected over ten year increments\n",
    "fig, ax = plt.subplots(figsize=(10, 4)) #figsize changes the size\n",
    "ax.barh(yearly_binned['year_groups'],\n",
    "        yearly_binned['# of artworks'],\n",
    "       height=.5, color='slateblue')\n",
    "\n",
    "for location in ['left', 'right', 'bottom', 'top']:\n",
    "    ax.spines[location].set_visible(False) # removes all four chart box lines\n",
    "\n",
    "ax.tick_params(bottom=False, left=False) # removes the tick marks next to the artists names\n",
    "ax.set_xticks([500, 4000, 8000, 12000, 16000, 20000]) # set only certain x count markers\n",
    "ax.xaxis.tick_top() # move ticks from bottom to top\n",
    "ax.tick_params(top=False, left=False) # remove ticks from x axis\n",
    "ax.tick_params(axis='x', colors='grey') #lightens the color of the x axis text\n",
    "\n",
    "ax.text(x=2, y=-2.5, s='# of ArtWorks Collected by 10 Year Increment',\n",
    "        size=15)\n",
    "ax.axvline(x=12000, ymin=0.045, c='grey', alpha=0.5) # sets a grey marker line in the chart\n",
    "ax.invert_yaxis() # flip the axis to sort descending  \n",
    "plt.show()"
   ]
  },
  {
   "cell_type": "code",
   "execution_count": null,
   "metadata": {
    "id": "f0ZleF8w3E_0"
   },
   "outputs": [],
   "source": [
    "# Did the MoMa become more diverse over time, or was the # of artworks per artist consistent over time?\n",
    "\n",
    "# pull the number of artworks per year\n",
    "art_count_years = age_df['acquisition_year'].value_counts().rename_axis('acquisition_year').reset_index(name='art counts')\n",
    "art_count_years.head(5)\n",
    "\n",
    "# pull the number of unique artists per year\n",
    "artist_count_years = age_df.groupby('acquisition_year')['artist_id'].nunique().reset_index()\n",
    "artist_count_years.head(5)\n",
    "\n",
    "# merge the dataframes\n",
    "year_merge = pd.merge(art_count_years, artist_count_years, on='acquisition_year', how='outer')\n",
    "year_merge.head()"
   ]
  },
  {
   "cell_type": "code",
   "execution_count": null,
   "metadata": {
    "id": "QmDRWUah3E_1"
   },
   "outputs": [],
   "source": [
    "# create bins to merge years into 10 year intervals\n",
    "bins = [1925, 1935, 1945, 1955, 1965, 1975, 1985, 1995, 2005, 2015, 2025]\n",
    "labels =['25-34', '35-44', '45-54', '55-64', '65-74', '75-84', '85-94', '95-04', '05-14', '15-24']\n",
    "art_group = year_merge.sort_values(by='acquisition_year', ascending=True)\n",
    "art_group['binned'] = pd.cut(year_merge['acquisition_year'], bins,labels=labels)\n",
    "art_group = art_group[(art_group['acquisition_year']!= 1216)]\n",
    "\n",
    "art_group.head(20)"
   ]
  },
  {
   "cell_type": "code",
   "execution_count": null,
   "metadata": {
    "id": "4mIu6KIW3E_1"
   },
   "outputs": [],
   "source": [
    "binned_art_1 = art_group.groupby('binned')['art counts'].sum().reset_index()\n",
    "binned_art_1.head(10)\n",
    "\n",
    "binned_art_2 = art_group.groupby('binned')['artist_id'].sum().reset_index()\n",
    "binned_art_2.head(10)\n",
    "\n",
    "binned_art_per = pd.merge(binned_art_1, binned_art_2, on='binned', how='outer')\n",
    "binned_art_per.head(10)\n",
    "\n",
    "binned_art_per['avg artworks per artist'] = (binned_art_per['art counts'] / binned_art_per['artist_id']).round(decimals=1)\n",
    "binned_art_per.head(10)"
   ]
  },
  {
   "cell_type": "code",
   "execution_count": null,
   "metadata": {
    "id": "yH84rpX83E_2"
   },
   "outputs": [],
   "source": [
    "# visualization of average artworks per artist over time\n",
    "fig, ax = plt.subplots(figsize=(10, 6)) #figsize changes the size\n",
    "ax.barh(binned_art_per['binned'],\n",
    "        binned_art_per['avg artworks per artist'],\n",
    "       height=.5, color='slateblue')\n",
    "\n",
    "for location in ['left', 'right', 'bottom', 'top']:\n",
    "    ax.spines[location].set_visible(False) # removes all four chart box lines\n",
    "\n",
    "ax.tick_params(bottom=False, left=False) # removes the tick marks next to the artists names\n",
    "ax.set_xticks([0, 2, 4, 6, 8, 10]) # set only certain x count markers\n",
    "ax.xaxis.tick_top() # move ticks from bottom to top\n",
    "ax.tick_params(top=False, left=False) # remove ticks from x axis\n",
    "ax.tick_params(axis='x', colors='grey') #lightens the color of the x axis text\n",
    "\n",
    "ax.text(x=3, y=-2, s='Average # of ArtWorks Per Artist Over Time',\n",
    "        size=15)\n",
    "ax.axvline(x=6, ymin=0.045, c='grey', alpha=0.5) # sets a grey marker line in the chart\n",
    "ax.invert_yaxis() # flip the axis to sort descending  \n",
    "plt.show()"
   ]
  },
  {
   "cell_type": "code",
   "execution_count": null,
   "metadata": {
    "id": "C7ujIIXA3E_6"
   },
   "outputs": [],
   "source": [
    "# the next things I want to learn\n",
    "# how to plot two very different bars (ex: # of artworks vs avg artwork per artist)"
   ]
  },
  {
   "cell_type": "code",
   "execution_count": null,
   "metadata": {
    "id": "Zq6xBHJM3E_7"
   },
   "outputs": [],
   "source": []
  }
 ],
 "metadata": {
  "colab": {
   "name": "MoMa Analysis May 2021.ipynb",
   "provenance": []
  },
  "kernelspec": {
   "display_name": "Python 3",
   "language": "python",
   "name": "python3"
  },
  "language_info": {
   "codemirror_mode": {
    "name": "ipython",
    "version": 3
   },
   "file_extension": ".py",
   "mimetype": "text/x-python",
   "name": "python",
   "nbconvert_exporter": "python",
   "pygments_lexer": "ipython3",
   "version": "3.8.3"
  }
 },
 "nbformat": 4,
 "nbformat_minor": 1
}
